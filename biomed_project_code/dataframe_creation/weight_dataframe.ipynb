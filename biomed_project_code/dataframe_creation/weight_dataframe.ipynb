{
 "cells": [
  {
   "cell_type": "markdown",
   "id": "79081d17",
   "metadata": {},
   "source": [
    "# Data Preparation for Classification of Neonate Weight"
   ]
  },
  {
   "cell_type": "code",
   "execution_count": 1,
   "id": "79da8a03",
   "metadata": {},
   "outputs": [],
   "source": [
    "import pandas as pd\n",
    "import numpy as np"
   ]
  },
  {
   "cell_type": "markdown",
   "id": "145f2fa0",
   "metadata": {},
   "source": [
    "The main dataframe that contains all necessary data must first be loaded."
   ]
  },
  {
   "cell_type": "code",
   "execution_count": 2,
   "id": "a8bcc94c",
   "metadata": {},
   "outputs": [],
   "source": [
    "mainDf = pd.read_csv('C:/Users/Nefeli/Desktop/biomed_project_data/mainDf_int.csv')"
   ]
  },
  {
   "cell_type": "markdown",
   "id": "c568e8b9",
   "metadata": {},
   "source": [
    "<br>According to the following resource that is partnered with some world renowned medical schools (Yale,UCSF,UCSD and more)\n",
    "https://emedicine.medscape.com/article/938854-overview?form=fpf</br>\n",
    "\n",
    "<br>As well as The Mayo Clinic : https://www.mayoclinic.org/diseases-conditions/fetal-macrosomia/symptoms-causes/syc-20372579 and Penn Medicine Lancaster General Health: https://www.lancastergeneralhealth.org/health-hub-home/motherhood/the-first-year/your-newborns-weight-gain</br>"
   ]
  },
  {
   "cell_type": "markdown",
   "id": "c945c1f2",
   "metadata": {},
   "source": [
    "Neonate Weight is classified as follows:\n",
    "<br>ELBW: Extremely low birth weight -> weight < 1000 g </br>\n",
    "<br>VLBW: Very low birth weight -> weight < 1500 g </br>\n",
    "<br>LBW: Low birth weight -> weight < 2500 g</br>\n",
    "<br>NORM: Normal birth weight -> weight >=2500 g and <=4000 g</br>\n",
    "<br>MACRO: Macrosomia -> weight > 4000 g</br>"
   ]
  },
  {
   "cell_type": "code",
   "execution_count": 3,
   "id": "a9f809de",
   "metadata": {},
   "outputs": [],
   "source": [
    "def neonateWeightClassAssigner_5(x):\n",
    "    if x<1000:\n",
    "        return 'ELBW'\n",
    "    elif x<1500:\n",
    "        return 'VLBW'\n",
    "    elif x<2500:\n",
    "        return 'LBW'\n",
    "    elif x>= 2500 and x<=4000:\n",
    "        return 'NORM'\n",
    "    elif x>4000:\n",
    "        return 'MACRO'\n",
    "    else:\n",
    "        return np.nan"
   ]
  },
  {
   "cell_type": "code",
   "execution_count": 4,
   "id": "b0dfaf04",
   "metadata": {},
   "outputs": [],
   "source": [
    "mainDf['Neonate_Weight_5'] = [None]*len(mainDf) "
   ]
  },
  {
   "cell_type": "code",
   "execution_count": 5,
   "id": "d445e0cb",
   "metadata": {},
   "outputs": [],
   "source": [
    "mainDf['Neonate_Weight_5']  = mainDf['Weight(g)'].apply(lambda x : neonateWeightClassAssigner_5(x))"
   ]
  },
  {
   "cell_type": "code",
   "execution_count": 6,
   "id": "0cb34a3b",
   "metadata": {},
   "outputs": [
    {
     "name": "stdout",
     "output_type": "stream",
     "text": [
      "['LBW' 'MACRO' 'NORM']\n",
      "[  3  17 202]\n"
     ]
    }
   ],
   "source": [
    "y_labels, counts = np.unique(mainDf['Neonate_Weight_5'], return_counts=True)\n",
    "print(y_labels)\n",
    "print(counts)"
   ]
  },
  {
   "cell_type": "markdown",
   "id": "88b45ac8",
   "metadata": {},
   "source": [
    "The ELBW and VLBW classes do not exist in the dataset. There is also a prominent class imbalance amongst the other three existing classes with the majority of entries belonging to the 'NORM' class. The problem can be turned into a binary classification problem with two classes 'NORM' and 'ABNORM' for normal and abnormal cases respectively. So the 'LBW' and 'MACRO' will belong to 'ABNORM' and the rest remain in 'NORM'. There is nothing more than can be done while maintaining a interpretability. "
   ]
  },
  {
   "cell_type": "markdown",
   "id": "9765d395",
   "metadata": {},
   "source": [
    "Neonate Weight is now classified as follows:\n",
    "<br>ABNORM: Low birth weight -> weight < 2500 g</br>\n",
    "<br>NORM: Normal birth weight -> weight >=2500 g and <=4000 g</br>\n",
    "<br>ABNORM: Macrosomia -> weight > 4000 g</br>"
   ]
  },
  {
   "cell_type": "code",
   "execution_count": 7,
   "id": "d30de2ef",
   "metadata": {},
   "outputs": [],
   "source": [
    "def neonateWeightClassAssigner(x):\n",
    "    \n",
    "    if x<2500:\n",
    "        return 'ABNORM'\n",
    "    elif x>= 2500 and x<=4000:\n",
    "        return 'NORM'\n",
    "    elif x>4000:\n",
    "        return 'ABNORM'\n",
    "    else:\n",
    "        return np.nan"
   ]
  },
  {
   "cell_type": "code",
   "execution_count": 8,
   "id": "b789eee5",
   "metadata": {},
   "outputs": [],
   "source": [
    "mainDf['Neonate_Weight'] = [None]*len(mainDf) "
   ]
  },
  {
   "cell_type": "code",
   "execution_count": 9,
   "id": "01e4d49d",
   "metadata": {},
   "outputs": [],
   "source": [
    "mainDf['Neonate_Weight']  = mainDf['Weight(g)'].apply(lambda x : neonateWeightClassAssigner(x))"
   ]
  },
  {
   "cell_type": "code",
   "execution_count": 10,
   "id": "e19c7466",
   "metadata": {},
   "outputs": [
    {
     "name": "stdout",
     "output_type": "stream",
     "text": [
      "['ABNORM' 'NORM']\n",
      "[ 20 202]\n"
     ]
    }
   ],
   "source": [
    "y_labels, counts = np.unique(mainDf['Neonate_Weight'], return_counts=True)\n",
    "print(y_labels)\n",
    "print(counts)"
   ]
  },
  {
   "cell_type": "code",
   "execution_count": 11,
   "id": "f7865ca7",
   "metadata": {},
   "outputs": [
    {
     "data": {
      "text/html": [
       "<div>\n",
       "<style scoped>\n",
       "    .dataframe tbody tr th:only-of-type {\n",
       "        vertical-align: middle;\n",
       "    }\n",
       "\n",
       "    .dataframe tbody tr th {\n",
       "        vertical-align: top;\n",
       "    }\n",
       "\n",
       "    .dataframe thead th {\n",
       "        text-align: right;\n",
       "    }\n",
       "</style>\n",
       "<table border=\"1\" class=\"dataframe\">\n",
       "  <thead>\n",
       "    <tr style=\"text-align: right;\">\n",
       "      <th></th>\n",
       "      <th>pH</th>\n",
       "      <th>BDecf</th>\n",
       "      <th>pCO2</th>\n",
       "      <th>BE</th>\n",
       "      <th>Apgar1</th>\n",
       "      <th>Apgar5</th>\n",
       "      <th>Gest.weeks</th>\n",
       "      <th>Sex</th>\n",
       "      <th>Age</th>\n",
       "      <th>Gravidity</th>\n",
       "      <th>...</th>\n",
       "      <th>FHR_II_ffill_total_power</th>\n",
       "      <th>FHR_II_ffill_vlf</th>\n",
       "      <th>FHR_II_ffill_haar_stdev</th>\n",
       "      <th>FHR_II_ffill_haar_mean</th>\n",
       "      <th>FHR_II_ffill_samp_entr</th>\n",
       "      <th>FHR_II_ffill_bub_entr</th>\n",
       "      <th>diff_nni20</th>\n",
       "      <th>diff_lf_hf</th>\n",
       "      <th>diff_haar_std</th>\n",
       "      <th>Neonate_Weight</th>\n",
       "    </tr>\n",
       "  </thead>\n",
       "  <tbody>\n",
       "    <tr>\n",
       "      <th>0</th>\n",
       "      <td>7.14</td>\n",
       "      <td>8.14</td>\n",
       "      <td>7.7</td>\n",
       "      <td>-10.5</td>\n",
       "      <td>6.0</td>\n",
       "      <td>8.0</td>\n",
       "      <td>37.0</td>\n",
       "      <td>2.0</td>\n",
       "      <td>32.0</td>\n",
       "      <td>1.0</td>\n",
       "      <td>...</td>\n",
       "      <td>368.077564</td>\n",
       "      <td>210.991854</td>\n",
       "      <td>1.549748</td>\n",
       "      <td>-0.000147</td>\n",
       "      <td>0.031682</td>\n",
       "      <td>0.179575</td>\n",
       "      <td>16</td>\n",
       "      <td>3.059011</td>\n",
       "      <td>0.437721</td>\n",
       "      <td>NORM</td>\n",
       "    </tr>\n",
       "    <tr>\n",
       "      <th>1</th>\n",
       "      <td>7.00</td>\n",
       "      <td>7.92</td>\n",
       "      <td>12.0</td>\n",
       "      <td>-12.0</td>\n",
       "      <td>8.0</td>\n",
       "      <td>8.0</td>\n",
       "      <td>41.0</td>\n",
       "      <td>2.0</td>\n",
       "      <td>23.0</td>\n",
       "      <td>1.0</td>\n",
       "      <td>...</td>\n",
       "      <td>573.335415</td>\n",
       "      <td>388.247905</td>\n",
       "      <td>3.125196</td>\n",
       "      <td>-0.019740</td>\n",
       "      <td>0.053499</td>\n",
       "      <td>0.154470</td>\n",
       "      <td>2</td>\n",
       "      <td>0.020674</td>\n",
       "      <td>1.175809</td>\n",
       "      <td>NORM</td>\n",
       "    </tr>\n",
       "    <tr>\n",
       "      <th>2</th>\n",
       "      <td>7.20</td>\n",
       "      <td>3.03</td>\n",
       "      <td>8.3</td>\n",
       "      <td>-5.6</td>\n",
       "      <td>7.0</td>\n",
       "      <td>9.0</td>\n",
       "      <td>40.0</td>\n",
       "      <td>1.0</td>\n",
       "      <td>31.0</td>\n",
       "      <td>1.0</td>\n",
       "      <td>...</td>\n",
       "      <td>285.519025</td>\n",
       "      <td>149.841842</td>\n",
       "      <td>2.459169</td>\n",
       "      <td>0.030445</td>\n",
       "      <td>0.052023</td>\n",
       "      <td>0.205526</td>\n",
       "      <td>8</td>\n",
       "      <td>1.917875</td>\n",
       "      <td>1.699915</td>\n",
       "      <td>NORM</td>\n",
       "    </tr>\n",
       "  </tbody>\n",
       "</table>\n",
       "<p>3 rows × 53 columns</p>\n",
       "</div>"
      ],
      "text/plain": [
       "     pH  BDecf  pCO2    BE  Apgar1  Apgar5  Gest.weeks  Sex   Age  Gravidity  \\\n",
       "0  7.14   8.14   7.7 -10.5     6.0     8.0        37.0  2.0  32.0        1.0   \n",
       "1  7.00   7.92  12.0 -12.0     8.0     8.0        41.0  2.0  23.0        1.0   \n",
       "2  7.20   3.03   8.3  -5.6     7.0     9.0        40.0  1.0  31.0        1.0   \n",
       "\n",
       "   ...  FHR_II_ffill_total_power  FHR_II_ffill_vlf  FHR_II_ffill_haar_stdev  \\\n",
       "0  ...                368.077564        210.991854                 1.549748   \n",
       "1  ...                573.335415        388.247905                 3.125196   \n",
       "2  ...                285.519025        149.841842                 2.459169   \n",
       "\n",
       "   FHR_II_ffill_haar_mean  FHR_II_ffill_samp_entr  FHR_II_ffill_bub_entr  \\\n",
       "0               -0.000147                0.031682               0.179575   \n",
       "1               -0.019740                0.053499               0.154470   \n",
       "2                0.030445                0.052023               0.205526   \n",
       "\n",
       "   diff_nni20  diff_lf_hf  diff_haar_std  Neonate_Weight  \n",
       "0          16    3.059011       0.437721            NORM  \n",
       "1           2    0.020674       1.175809            NORM  \n",
       "2           8    1.917875       1.699915            NORM  \n",
       "\n",
       "[3 rows x 53 columns]"
      ]
     },
     "execution_count": 11,
     "metadata": {},
     "output_type": "execute_result"
    }
   ],
   "source": [
    "to_drop=['Weight(g)','Neonate_Weight_5']\n",
    "weightDf= mainDf.drop(columns=to_drop).copy()\n",
    "#weightDf.info()\n",
    "weightDf.head(3)"
   ]
  },
  {
   "cell_type": "code",
   "execution_count": 12,
   "id": "1435cb38",
   "metadata": {},
   "outputs": [],
   "source": [
    "weightDf.to_csv('C:/Users/Nefeli/Desktop/biomed_project_data/weightDf_bin.csv',index=False)"
   ]
  }
 ],
 "metadata": {
  "kernelspec": {
   "display_name": "Python 3 (ipykernel)",
   "language": "python",
   "name": "python3"
  },
  "language_info": {
   "codemirror_mode": {
    "name": "ipython",
    "version": 3
   },
   "file_extension": ".py",
   "mimetype": "text/x-python",
   "name": "python",
   "nbconvert_exporter": "python",
   "pygments_lexer": "ipython3",
   "version": "3.11.5"
  }
 },
 "nbformat": 4,
 "nbformat_minor": 5
}

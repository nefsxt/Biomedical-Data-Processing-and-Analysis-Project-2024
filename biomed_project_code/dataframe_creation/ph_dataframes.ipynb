{
 "cells": [
  {
   "cell_type": "markdown",
   "id": "60912d05",
   "metadata": {},
   "source": [
    "# Data Preparation for Classification of pH"
   ]
  },
  {
   "cell_type": "code",
   "execution_count": 1,
   "id": "5828cccb",
   "metadata": {},
   "outputs": [],
   "source": [
    "import pandas as pd\n",
    "import numpy as np"
   ]
  },
  {
   "cell_type": "markdown",
   "id": "c45c4add",
   "metadata": {},
   "source": [
    "The main dataframe that contains all necessary data must first be loaded."
   ]
  },
  {
   "cell_type": "code",
   "execution_count": 2,
   "id": "eca496d0",
   "metadata": {},
   "outputs": [],
   "source": [
    "mainDf = pd.read_csv('C:/Users/Nefeli/Desktop/biomed_project_data/mainDf_int.csv')"
   ]
  },
  {
   "cell_type": "code",
   "execution_count": 3,
   "id": "04a374ea",
   "metadata": {},
   "outputs": [
    {
     "name": "stdout",
     "output_type": "stream",
     "text": [
      "[6.87 6.92 6.93 6.98 6.99 7.   7.02 7.03 7.05 7.07 7.08 7.09 7.1  7.11\n",
      " 7.12 7.13 7.14 7.15 7.16 7.17 7.18 7.19 7.2  7.21 7.22 7.23 7.24 7.25\n",
      " 7.26 7.27 7.28 7.29 7.3  7.31 7.32 7.33 7.34 7.35]\n",
      "[ 1  1  2  2  1  2  1  3  3  3  2  1  4  2  5  9 11  3 15  4 11  8 14  7\n",
      "  6  7 13 12 15  8  6  9  9  6  7  1  5  3]\n"
     ]
    }
   ],
   "source": [
    "y_labels, counts = np.unique(mainDf['pH'], return_counts=True)\n",
    "print(y_labels)\n",
    "print(counts)"
   ]
  },
  {
   "cell_type": "markdown",
   "id": "e3bc044e",
   "metadata": {},
   "source": [
    "<br>Groups of pH values and total count sums for each:</br>\n",
    "<br>{6.87 6.92 6.93 6.98 6.99 7.} -> total count = 9</br>\n",
    "<br>{7.02 7.03 7.05 7.07 7.08 7.09 7.1} -> total count = 17</br>\n",
    "<br>{7.11\n",
    " 7.12 7.13 7.14 7.15 7.16 7.17 7.18 7.19 7.2}-> total count = 82</br>\n",
    "<br>{7.21 7.22 7.23 7.24 7.25\n",
    " 7.26 7.27 7.28 7.29 7.3} -> total count = 92</br>\n",
    "<br>{7.31 7.32 7.33 7.34 7.35} -> total count = 22</br>"
   ]
  },
  {
   "cell_type": "markdown",
   "id": "f208d7bd",
   "metadata": {},
   "source": [
    "Looking at the existing pH values and their corresponding count values, there are two good split options that will lead to balaced classes. They can be considered equivalent. The first is using 7.2 as the splitting point for the two classes (class A : 108 elements, class B: 114 elements). The second is using 7.21 as the splitting point for the two classes (class A: 115 elements, class B:107 elements)."
   ]
  },
  {
   "cell_type": "markdown",
   "id": "03309181",
   "metadata": {},
   "source": [
    "Instead of class A and B we can name the classes Risky 'RISK' and Non-Risky 'NORISK' given the fact there may be loose corellation to CTG data and pH values that indicate asphyxiation of the neonate or other pathological phenomena. Of course, many contesting scientific opinions on this exist and on what values may indicate what pathological phenomenon or risk indicator. The ideal thresehold value is the subject of ongoing research. There is no agreement on a thresehold value to be used to discern between normal and abnormal situations but those proposed are usually smaller than 7.2. However, it must be noted that 7.2 is mentioned as a split point itself so given both reasoning regarding the data available and existing information 7.2 indeed seems to be a good choice of thresehold here. 7.2 is considered within the risky partition."
   ]
  },
  {
   "cell_type": "code",
   "execution_count": 4,
   "id": "9db17f35",
   "metadata": {},
   "outputs": [],
   "source": [
    "def pHClassAssigner(x):\n",
    "    if x<=7.2:\n",
    "        return 'RISK'\n",
    "    elif x>7.2:\n",
    "        return 'NORISK'\n",
    "    else:\n",
    "        return np.nan"
   ]
  },
  {
   "cell_type": "code",
   "execution_count": 5,
   "id": "138eec8f",
   "metadata": {},
   "outputs": [],
   "source": [
    "mainDf['pH_risk'] = [None]*len(mainDf) "
   ]
  },
  {
   "cell_type": "code",
   "execution_count": 6,
   "id": "d27d7bde",
   "metadata": {},
   "outputs": [],
   "source": [
    "mainDf['pH_risk']  = mainDf['pH'].apply(lambda x : pHClassAssigner(x))"
   ]
  },
  {
   "cell_type": "code",
   "execution_count": 7,
   "id": "84f7101e",
   "metadata": {},
   "outputs": [
    {
     "name": "stdout",
     "output_type": "stream",
     "text": [
      "['NORISK' 'RISK']\n",
      "[114 108]\n"
     ]
    }
   ],
   "source": [
    "y_labels, counts = np.unique(mainDf['pH_risk'], return_counts=True)\n",
    "print(y_labels)\n",
    "print(counts)"
   ]
  },
  {
   "cell_type": "code",
   "execution_count": 8,
   "id": "d222389d",
   "metadata": {},
   "outputs": [
    {
     "data": {
      "text/html": [
       "<div>\n",
       "<style scoped>\n",
       "    .dataframe tbody tr th:only-of-type {\n",
       "        vertical-align: middle;\n",
       "    }\n",
       "\n",
       "    .dataframe tbody tr th {\n",
       "        vertical-align: top;\n",
       "    }\n",
       "\n",
       "    .dataframe thead th {\n",
       "        text-align: right;\n",
       "    }\n",
       "</style>\n",
       "<table border=\"1\" class=\"dataframe\">\n",
       "  <thead>\n",
       "    <tr style=\"text-align: right;\">\n",
       "      <th></th>\n",
       "      <th>BDecf</th>\n",
       "      <th>pCO2</th>\n",
       "      <th>BE</th>\n",
       "      <th>Apgar1</th>\n",
       "      <th>Apgar5</th>\n",
       "      <th>Gest.weeks</th>\n",
       "      <th>Weight(g)</th>\n",
       "      <th>Sex</th>\n",
       "      <th>Age</th>\n",
       "      <th>Gravidity</th>\n",
       "      <th>...</th>\n",
       "      <th>FHR_II_ffill_total_power</th>\n",
       "      <th>FHR_II_ffill_vlf</th>\n",
       "      <th>FHR_II_ffill_haar_stdev</th>\n",
       "      <th>FHR_II_ffill_haar_mean</th>\n",
       "      <th>FHR_II_ffill_samp_entr</th>\n",
       "      <th>FHR_II_ffill_bub_entr</th>\n",
       "      <th>diff_nni20</th>\n",
       "      <th>diff_lf_hf</th>\n",
       "      <th>diff_haar_std</th>\n",
       "      <th>pH_risk</th>\n",
       "    </tr>\n",
       "  </thead>\n",
       "  <tbody>\n",
       "    <tr>\n",
       "      <th>0</th>\n",
       "      <td>8.14</td>\n",
       "      <td>7.7</td>\n",
       "      <td>-10.5</td>\n",
       "      <td>6.0</td>\n",
       "      <td>8.0</td>\n",
       "      <td>37.0</td>\n",
       "      <td>2660.0</td>\n",
       "      <td>2.0</td>\n",
       "      <td>32.0</td>\n",
       "      <td>1.0</td>\n",
       "      <td>...</td>\n",
       "      <td>368.077564</td>\n",
       "      <td>210.991854</td>\n",
       "      <td>1.549748</td>\n",
       "      <td>-0.000147</td>\n",
       "      <td>0.031682</td>\n",
       "      <td>0.179575</td>\n",
       "      <td>16</td>\n",
       "      <td>3.059011</td>\n",
       "      <td>0.437721</td>\n",
       "      <td>RISK</td>\n",
       "    </tr>\n",
       "    <tr>\n",
       "      <th>1</th>\n",
       "      <td>7.92</td>\n",
       "      <td>12.0</td>\n",
       "      <td>-12.0</td>\n",
       "      <td>8.0</td>\n",
       "      <td>8.0</td>\n",
       "      <td>41.0</td>\n",
       "      <td>2900.0</td>\n",
       "      <td>2.0</td>\n",
       "      <td>23.0</td>\n",
       "      <td>1.0</td>\n",
       "      <td>...</td>\n",
       "      <td>573.335415</td>\n",
       "      <td>388.247905</td>\n",
       "      <td>3.125196</td>\n",
       "      <td>-0.019740</td>\n",
       "      <td>0.053499</td>\n",
       "      <td>0.154470</td>\n",
       "      <td>2</td>\n",
       "      <td>0.020674</td>\n",
       "      <td>1.175809</td>\n",
       "      <td>RISK</td>\n",
       "    </tr>\n",
       "    <tr>\n",
       "      <th>2</th>\n",
       "      <td>3.03</td>\n",
       "      <td>8.3</td>\n",
       "      <td>-5.6</td>\n",
       "      <td>7.0</td>\n",
       "      <td>9.0</td>\n",
       "      <td>40.0</td>\n",
       "      <td>3770.0</td>\n",
       "      <td>1.0</td>\n",
       "      <td>31.0</td>\n",
       "      <td>1.0</td>\n",
       "      <td>...</td>\n",
       "      <td>285.519025</td>\n",
       "      <td>149.841842</td>\n",
       "      <td>2.459169</td>\n",
       "      <td>0.030445</td>\n",
       "      <td>0.052023</td>\n",
       "      <td>0.205526</td>\n",
       "      <td>8</td>\n",
       "      <td>1.917875</td>\n",
       "      <td>1.699915</td>\n",
       "      <td>RISK</td>\n",
       "    </tr>\n",
       "  </tbody>\n",
       "</table>\n",
       "<p>3 rows × 53 columns</p>\n",
       "</div>"
      ],
      "text/plain": [
       "   BDecf  pCO2    BE  Apgar1  Apgar5  Gest.weeks  Weight(g)  Sex   Age  \\\n",
       "0   8.14   7.7 -10.5     6.0     8.0        37.0     2660.0  2.0  32.0   \n",
       "1   7.92  12.0 -12.0     8.0     8.0        41.0     2900.0  2.0  23.0   \n",
       "2   3.03   8.3  -5.6     7.0     9.0        40.0     3770.0  1.0  31.0   \n",
       "\n",
       "   Gravidity  ...  FHR_II_ffill_total_power  FHR_II_ffill_vlf  \\\n",
       "0        1.0  ...                368.077564        210.991854   \n",
       "1        1.0  ...                573.335415        388.247905   \n",
       "2        1.0  ...                285.519025        149.841842   \n",
       "\n",
       "   FHR_II_ffill_haar_stdev  FHR_II_ffill_haar_mean  FHR_II_ffill_samp_entr  \\\n",
       "0                 1.549748               -0.000147                0.031682   \n",
       "1                 3.125196               -0.019740                0.053499   \n",
       "2                 2.459169                0.030445                0.052023   \n",
       "\n",
       "   FHR_II_ffill_bub_entr  diff_nni20  diff_lf_hf  diff_haar_std  pH_risk  \n",
       "0               0.179575          16    3.059011       0.437721     RISK  \n",
       "1               0.154470           2    0.020674       1.175809     RISK  \n",
       "2               0.205526           8    1.917875       1.699915     RISK  \n",
       "\n",
       "[3 rows x 53 columns]"
      ]
     },
     "execution_count": 8,
     "metadata": {},
     "output_type": "execute_result"
    }
   ],
   "source": [
    "to_drop=['pH']\n",
    "phDf= mainDf.drop(columns=to_drop).copy()\n",
    "#phDf.info()\n",
    "phDf.head(3)"
   ]
  },
  {
   "cell_type": "code",
   "execution_count": 9,
   "id": "69239cbe",
   "metadata": {},
   "outputs": [],
   "source": [
    "phDf.to_csv('C:/Users/Nefeli/Desktop/biomed_project_data/phDf_bin.csv',index=False)"
   ]
  }
 ],
 "metadata": {
  "kernelspec": {
   "display_name": "Python 3 (ipykernel)",
   "language": "python",
   "name": "python3"
  },
  "language_info": {
   "codemirror_mode": {
    "name": "ipython",
    "version": 3
   },
   "file_extension": ".py",
   "mimetype": "text/x-python",
   "name": "python",
   "nbconvert_exporter": "python",
   "pygments_lexer": "ipython3",
   "version": "3.11.5"
  }
 },
 "nbformat": 4,
 "nbformat_minor": 5
}

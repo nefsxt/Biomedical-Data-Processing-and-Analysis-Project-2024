{
 "cells": [
  {
   "cell_type": "markdown",
   "id": "1bbb059e",
   "metadata": {},
   "source": [
    "# Data Preparation for Classification of Gestational Term"
   ]
  },
  {
   "cell_type": "code",
   "execution_count": 1,
   "id": "67c6f6fa",
   "metadata": {},
   "outputs": [],
   "source": [
    "import pandas as pd\n",
    "import numpy as np"
   ]
  },
  {
   "cell_type": "markdown",
   "id": "9ca37cf4",
   "metadata": {},
   "source": [
    "The main dataframe that contains all necessary data must first be loaded."
   ]
  },
  {
   "cell_type": "code",
   "execution_count": 2,
   "id": "a6d68282",
   "metadata": {},
   "outputs": [],
   "source": [
    "mainDf = pd.read_csv('C:/Users/Nefeli/Desktop/biomed_project_data/mainDf_int.csv')"
   ]
  },
  {
   "cell_type": "markdown",
   "id": "be800921",
   "metadata": {},
   "source": [
    "According to the ACOG : https://www.acog.org/clinical/clinical-guidance/committee-opinion/articles/2013/11/definition-of-term-pregnancy, pregnancy terms can be classified in weeks as follows:"
   ]
  },
  {
   "cell_type": "markdown",
   "id": "e47f9678",
   "metadata": {},
   "source": [
    "<br>ET: Early Term -> weeks>= 37 and <=38</br>\n",
    "<br>FT: Full Term -> weeks>=39 and <=40 </br>\n",
    "<br>LT: Late Term -> weeks=41 </br>\n",
    "<br>P: Postterm -> weeks>=42 </br>"
   ]
  },
  {
   "cell_type": "code",
   "execution_count": 3,
   "id": "4545fb5b",
   "metadata": {},
   "outputs": [],
   "source": [
    "def gestTermClassAssigner_4(x):\n",
    "    if x>=37.0 and x<=38.0:\n",
    "        return 'ET'\n",
    "    elif x>=39.0 and x<=40.0:\n",
    "        return 'FT'\n",
    "    elif x==41.0:\n",
    "        return 'LT'\n",
    "    elif x>= 42.0:\n",
    "        return 'P'\n",
    "    else:\n",
    "        return np.nan"
   ]
  },
  {
   "cell_type": "code",
   "execution_count": 4,
   "id": "dc823987",
   "metadata": {},
   "outputs": [],
   "source": [
    "mainDf['Gest_Term_4'] = [None]*len(mainDf) "
   ]
  },
  {
   "cell_type": "code",
   "execution_count": 5,
   "id": "e1e0aa53",
   "metadata": {},
   "outputs": [],
   "source": [
    "mainDf['Gest_Term_4']  = mainDf['Gest.weeks'].apply(lambda x : gestTermClassAssigner_4(x))"
   ]
  },
  {
   "cell_type": "code",
   "execution_count": 6,
   "id": "c5692269",
   "metadata": {},
   "outputs": [
    {
     "name": "stdout",
     "output_type": "stream",
     "text": [
      "['ET' 'FT' 'LT' 'P']\n",
      "[ 21 119  72  10]\n"
     ]
    }
   ],
   "source": [
    "y_labels, counts = np.unique(mainDf['Gest_Term_4'], return_counts=True)\n",
    "print(y_labels)\n",
    "print(counts)"
   ]
  },
  {
   "cell_type": "markdown",
   "id": "ef2f60cd",
   "metadata": {},
   "source": [
    "All four classes do appear, but there is prominent class imbalance. To find a good mindway point between interpretability and class balance, the 'FT' class can remain the same and the rest of the classes can be merged as 'OT' (other). So the two categories will be full term pregnancies and 'other' pregnancies where some type of pathological phenomenon may exist."
   ]
  },
  {
   "cell_type": "markdown",
   "id": "999d3941",
   "metadata": {},
   "source": [
    "<br>OT: Other -> weeks>= 37 and <=38</br>\n",
    "<br>FT: Full Term -> weeks>=39 and <=40 </br>\n",
    "<br>OT: Other -> weeks=41 </br>\n",
    "<br>OT: Other -> weeks>=42 </br>"
   ]
  },
  {
   "cell_type": "code",
   "execution_count": 7,
   "id": "79ded677",
   "metadata": {},
   "outputs": [],
   "source": [
    "def gestTermClassAssigner(x):\n",
    "    if x>=37.0 and x<=38.0:\n",
    "        return 'OT'\n",
    "    elif x>=39.0 and x<=40.0:\n",
    "        return 'FT'\n",
    "    elif x==41.0:\n",
    "        return 'OT'\n",
    "    elif x>= 42.0:\n",
    "        return 'OT'\n",
    "    else:\n",
    "        return np.nan"
   ]
  },
  {
   "cell_type": "code",
   "execution_count": 8,
   "id": "9a5479eb",
   "metadata": {},
   "outputs": [],
   "source": [
    "mainDf['Gest_Term'] = [None]*len(mainDf) "
   ]
  },
  {
   "cell_type": "code",
   "execution_count": 9,
   "id": "e2fbc7d9",
   "metadata": {},
   "outputs": [],
   "source": [
    "mainDf['Gest_Term']  = mainDf['Gest.weeks'].apply(lambda x : gestTermClassAssigner(x))"
   ]
  },
  {
   "cell_type": "code",
   "execution_count": 10,
   "id": "5f697bd6",
   "metadata": {},
   "outputs": [
    {
     "name": "stdout",
     "output_type": "stream",
     "text": [
      "['FT' 'OT']\n",
      "[119 103]\n"
     ]
    }
   ],
   "source": [
    "y_labels, counts = np.unique(mainDf['Gest_Term'], return_counts=True)\n",
    "print(y_labels)\n",
    "print(counts)"
   ]
  },
  {
   "cell_type": "code",
   "execution_count": 11,
   "id": "b8de1e7c",
   "metadata": {},
   "outputs": [
    {
     "data": {
      "text/html": [
       "<div>\n",
       "<style scoped>\n",
       "    .dataframe tbody tr th:only-of-type {\n",
       "        vertical-align: middle;\n",
       "    }\n",
       "\n",
       "    .dataframe tbody tr th {\n",
       "        vertical-align: top;\n",
       "    }\n",
       "\n",
       "    .dataframe thead th {\n",
       "        text-align: right;\n",
       "    }\n",
       "</style>\n",
       "<table border=\"1\" class=\"dataframe\">\n",
       "  <thead>\n",
       "    <tr style=\"text-align: right;\">\n",
       "      <th></th>\n",
       "      <th>pH</th>\n",
       "      <th>BDecf</th>\n",
       "      <th>pCO2</th>\n",
       "      <th>BE</th>\n",
       "      <th>Apgar1</th>\n",
       "      <th>Apgar5</th>\n",
       "      <th>Weight(g)</th>\n",
       "      <th>Sex</th>\n",
       "      <th>Age</th>\n",
       "      <th>Gravidity</th>\n",
       "      <th>...</th>\n",
       "      <th>FHR_II_ffill_total_power</th>\n",
       "      <th>FHR_II_ffill_vlf</th>\n",
       "      <th>FHR_II_ffill_haar_stdev</th>\n",
       "      <th>FHR_II_ffill_haar_mean</th>\n",
       "      <th>FHR_II_ffill_samp_entr</th>\n",
       "      <th>FHR_II_ffill_bub_entr</th>\n",
       "      <th>diff_nni20</th>\n",
       "      <th>diff_lf_hf</th>\n",
       "      <th>diff_haar_std</th>\n",
       "      <th>Gest_Term</th>\n",
       "    </tr>\n",
       "  </thead>\n",
       "  <tbody>\n",
       "    <tr>\n",
       "      <th>0</th>\n",
       "      <td>7.14</td>\n",
       "      <td>8.14</td>\n",
       "      <td>7.7</td>\n",
       "      <td>-10.5</td>\n",
       "      <td>6.0</td>\n",
       "      <td>8.0</td>\n",
       "      <td>2660.0</td>\n",
       "      <td>2.0</td>\n",
       "      <td>32.0</td>\n",
       "      <td>1.0</td>\n",
       "      <td>...</td>\n",
       "      <td>368.077564</td>\n",
       "      <td>210.991854</td>\n",
       "      <td>1.549748</td>\n",
       "      <td>-0.000147</td>\n",
       "      <td>0.031682</td>\n",
       "      <td>0.179575</td>\n",
       "      <td>16</td>\n",
       "      <td>3.059011</td>\n",
       "      <td>0.437721</td>\n",
       "      <td>OT</td>\n",
       "    </tr>\n",
       "    <tr>\n",
       "      <th>1</th>\n",
       "      <td>7.00</td>\n",
       "      <td>7.92</td>\n",
       "      <td>12.0</td>\n",
       "      <td>-12.0</td>\n",
       "      <td>8.0</td>\n",
       "      <td>8.0</td>\n",
       "      <td>2900.0</td>\n",
       "      <td>2.0</td>\n",
       "      <td>23.0</td>\n",
       "      <td>1.0</td>\n",
       "      <td>...</td>\n",
       "      <td>573.335415</td>\n",
       "      <td>388.247905</td>\n",
       "      <td>3.125196</td>\n",
       "      <td>-0.019740</td>\n",
       "      <td>0.053499</td>\n",
       "      <td>0.154470</td>\n",
       "      <td>2</td>\n",
       "      <td>0.020674</td>\n",
       "      <td>1.175809</td>\n",
       "      <td>OT</td>\n",
       "    </tr>\n",
       "    <tr>\n",
       "      <th>2</th>\n",
       "      <td>7.20</td>\n",
       "      <td>3.03</td>\n",
       "      <td>8.3</td>\n",
       "      <td>-5.6</td>\n",
       "      <td>7.0</td>\n",
       "      <td>9.0</td>\n",
       "      <td>3770.0</td>\n",
       "      <td>1.0</td>\n",
       "      <td>31.0</td>\n",
       "      <td>1.0</td>\n",
       "      <td>...</td>\n",
       "      <td>285.519025</td>\n",
       "      <td>149.841842</td>\n",
       "      <td>2.459169</td>\n",
       "      <td>0.030445</td>\n",
       "      <td>0.052023</td>\n",
       "      <td>0.205526</td>\n",
       "      <td>8</td>\n",
       "      <td>1.917875</td>\n",
       "      <td>1.699915</td>\n",
       "      <td>FT</td>\n",
       "    </tr>\n",
       "  </tbody>\n",
       "</table>\n",
       "<p>3 rows × 53 columns</p>\n",
       "</div>"
      ],
      "text/plain": [
       "     pH  BDecf  pCO2    BE  Apgar1  Apgar5  Weight(g)  Sex   Age  Gravidity  \\\n",
       "0  7.14   8.14   7.7 -10.5     6.0     8.0     2660.0  2.0  32.0        1.0   \n",
       "1  7.00   7.92  12.0 -12.0     8.0     8.0     2900.0  2.0  23.0        1.0   \n",
       "2  7.20   3.03   8.3  -5.6     7.0     9.0     3770.0  1.0  31.0        1.0   \n",
       "\n",
       "   ...  FHR_II_ffill_total_power  FHR_II_ffill_vlf  FHR_II_ffill_haar_stdev  \\\n",
       "0  ...                368.077564        210.991854                 1.549748   \n",
       "1  ...                573.335415        388.247905                 3.125196   \n",
       "2  ...                285.519025        149.841842                 2.459169   \n",
       "\n",
       "   FHR_II_ffill_haar_mean  FHR_II_ffill_samp_entr  FHR_II_ffill_bub_entr  \\\n",
       "0               -0.000147                0.031682               0.179575   \n",
       "1               -0.019740                0.053499               0.154470   \n",
       "2                0.030445                0.052023               0.205526   \n",
       "\n",
       "   diff_nni20  diff_lf_hf  diff_haar_std  Gest_Term  \n",
       "0          16    3.059011       0.437721         OT  \n",
       "1           2    0.020674       1.175809         OT  \n",
       "2           8    1.917875       1.699915         FT  \n",
       "\n",
       "[3 rows x 53 columns]"
      ]
     },
     "execution_count": 11,
     "metadata": {},
     "output_type": "execute_result"
    }
   ],
   "source": [
    "to_drop=['Gest.weeks','Gest_Term_4']\n",
    "termDf= mainDf.drop(columns=to_drop).copy()\n",
    "#termDf.info()\n",
    "termDf.head(3)"
   ]
  },
  {
   "cell_type": "code",
   "execution_count": 12,
   "id": "43b6ccff",
   "metadata": {},
   "outputs": [],
   "source": [
    "termDf.to_csv('C:/Users/Nefeli/Desktop/biomed_project_data/termDf_bin.csv',index=False)"
   ]
  },
  {
   "cell_type": "code",
   "execution_count": null,
   "id": "cfad7ff5",
   "metadata": {},
   "outputs": [],
   "source": []
  }
 ],
 "metadata": {
  "kernelspec": {
   "display_name": "Python 3 (ipykernel)",
   "language": "python",
   "name": "python3"
  },
  "language_info": {
   "codemirror_mode": {
    "name": "ipython",
    "version": 3
   },
   "file_extension": ".py",
   "mimetype": "text/x-python",
   "name": "python",
   "nbconvert_exporter": "python",
   "pygments_lexer": "ipython3",
   "version": "3.11.5"
  }
 },
 "nbformat": 4,
 "nbformat_minor": 5
}

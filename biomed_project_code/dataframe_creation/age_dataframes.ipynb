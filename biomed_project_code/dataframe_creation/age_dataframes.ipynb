{
 "cells": [
  {
   "cell_type": "markdown",
   "id": "08bf4eef",
   "metadata": {},
   "source": [
    "# Data Preparation for Classification of Maternal Age "
   ]
  },
  {
   "cell_type": "code",
   "execution_count": 1,
   "id": "ca0e2d88",
   "metadata": {},
   "outputs": [],
   "source": [
    "import pandas as pd\n",
    "import numpy as np"
   ]
  },
  {
   "cell_type": "markdown",
   "id": "1275730c",
   "metadata": {},
   "source": [
    "The main dataframe that contains all necessary data must first be loaded."
   ]
  },
  {
   "cell_type": "code",
   "execution_count": 2,
   "id": "0b8915d4",
   "metadata": {},
   "outputs": [],
   "source": [
    "mainDf = pd.read_csv('C:/Users/Nefeli/Desktop/biomed_project_data/mainDf_int.csv')"
   ]
  },
  {
   "cell_type": "markdown",
   "id": "ac0b659d",
   "metadata": {},
   "source": [
    "<br>The classes for the mother's age are,initially, are not chosen too arbitrarily but based on methodology used on a well cited paper about the relation of maternal age to adverse pregnacny outcomes provided in the link below:</br> \n",
    "<br>https://bmcpregnancychildbirth.biomedcentral.com/articles/10.1186/s12884-019-2400-x</br>"
   ]
  },
  {
   "cell_type": "markdown",
   "id": "7eb3d4db",
   "metadata": {},
   "source": [
    "<br>A: <= 17 years old</br>\n",
    "<br>B: 18-28 years old </br>\n",
    "<br>C: 29-39 years old </br>\n",
    "<br>D: >=40 years old </br>"
   ]
  },
  {
   "cell_type": "code",
   "execution_count": 3,
   "id": "65042493",
   "metadata": {},
   "outputs": [],
   "source": [
    "mainDf['Maternal_Age_4'] = [None]*len(mainDf) "
   ]
  },
  {
   "cell_type": "code",
   "execution_count": 4,
   "id": "fa6a8ee2",
   "metadata": {},
   "outputs": [],
   "source": [
    "def maternalAgeClassAssigner4(x):\n",
    "    if x<17:\n",
    "        return 'A'\n",
    "    elif x>=18 and x<=28:\n",
    "        return 'B'\n",
    "    elif x>=29 and x<=39:\n",
    "        return 'C'\n",
    "    elif x>= 40:\n",
    "        return 'D'\n",
    "    else:\n",
    "        return np.nan"
   ]
  },
  {
   "cell_type": "code",
   "execution_count": 5,
   "id": "f14548db",
   "metadata": {},
   "outputs": [],
   "source": [
    "mainDf['Maternal_Age_4']= mainDf['Age'].apply(lambda x : maternalAgeClassAssigner4(x))"
   ]
  },
  {
   "cell_type": "code",
   "execution_count": 6,
   "id": "4853d809",
   "metadata": {},
   "outputs": [
    {
     "name": "stdout",
     "output_type": "stream",
     "text": [
      "['B' 'C' 'D']\n",
      "[100 118   4]\n"
     ]
    }
   ],
   "source": [
    "y_labels, counts = np.unique(mainDf['Maternal_Age_4'], return_counts=True)\n",
    "print(y_labels)\n",
    "print(counts)"
   ]
  },
  {
   "cell_type": "markdown",
   "id": "55e59b6d",
   "metadata": {},
   "source": [
    "<br>It is observed that class A does not exist in the dataset while classes B and C are fairly balanced. However, class D only has 4 instances. Class imbalance is not a desired characteristic, and since D only has 4 instances, we can merge C and D into one class and turn the problem into a binary classification problem. More specifically we can consider 29 and below as class A and all ages above that as class B.</br>\n",
    "\n",
    "<br>New Classes:</br>\n",
    "<br>A: <= 29 years old</br>\n",
    "<br>B: > 29 years old</br>"
   ]
  },
  {
   "cell_type": "code",
   "execution_count": 7,
   "id": "cf7c923b",
   "metadata": {},
   "outputs": [],
   "source": [
    "def maternalAgeClassAssigner2(x):\n",
    "    if x<=29:\n",
    "        return 'A'\n",
    "    elif x>29:\n",
    "        return 'B'\n",
    "    else:\n",
    "        return np.nan"
   ]
  },
  {
   "cell_type": "code",
   "execution_count": 8,
   "id": "7d0b7c84",
   "metadata": {},
   "outputs": [],
   "source": [
    "mainDf['Maternal_Age'] = [None]*len(mainDf) \n",
    "mainDf['Maternal_Age']= mainDf['Age'].apply(lambda x : maternalAgeClassAssigner2(x))"
   ]
  },
  {
   "cell_type": "code",
   "execution_count": 9,
   "id": "0721057a",
   "metadata": {},
   "outputs": [
    {
     "name": "stdout",
     "output_type": "stream",
     "text": [
      "['A' 'B']\n",
      "[121 101]\n"
     ]
    }
   ],
   "source": [
    "y_labels, counts = np.unique(mainDf['Maternal_Age'], return_counts=True)\n",
    "print(y_labels)\n",
    "print(counts)"
   ]
  },
  {
   "cell_type": "markdown",
   "id": "1b8e3f88",
   "metadata": {},
   "source": [
    "As expected, the dataset is significantly more balanced now. The dataframe can now be saved as a csv file in order to utilize it for training classification models and evaluating their performance on the problem at hand."
   ]
  },
  {
   "cell_type": "code",
   "execution_count": 10,
   "id": "d633d152",
   "metadata": {},
   "outputs": [
    {
     "data": {
      "text/html": [
       "<div>\n",
       "<style scoped>\n",
       "    .dataframe tbody tr th:only-of-type {\n",
       "        vertical-align: middle;\n",
       "    }\n",
       "\n",
       "    .dataframe tbody tr th {\n",
       "        vertical-align: top;\n",
       "    }\n",
       "\n",
       "    .dataframe thead th {\n",
       "        text-align: right;\n",
       "    }\n",
       "</style>\n",
       "<table border=\"1\" class=\"dataframe\">\n",
       "  <thead>\n",
       "    <tr style=\"text-align: right;\">\n",
       "      <th></th>\n",
       "      <th>pH</th>\n",
       "      <th>BDecf</th>\n",
       "      <th>pCO2</th>\n",
       "      <th>BE</th>\n",
       "      <th>Apgar1</th>\n",
       "      <th>Apgar5</th>\n",
       "      <th>Gest.weeks</th>\n",
       "      <th>Weight(g)</th>\n",
       "      <th>Sex</th>\n",
       "      <th>Gravidity</th>\n",
       "      <th>...</th>\n",
       "      <th>FHR_II_ffill_total_power</th>\n",
       "      <th>FHR_II_ffill_vlf</th>\n",
       "      <th>FHR_II_ffill_haar_stdev</th>\n",
       "      <th>FHR_II_ffill_haar_mean</th>\n",
       "      <th>FHR_II_ffill_samp_entr</th>\n",
       "      <th>FHR_II_ffill_bub_entr</th>\n",
       "      <th>diff_nni20</th>\n",
       "      <th>diff_lf_hf</th>\n",
       "      <th>diff_haar_std</th>\n",
       "      <th>Maternal_Age</th>\n",
       "    </tr>\n",
       "  </thead>\n",
       "  <tbody>\n",
       "    <tr>\n",
       "      <th>0</th>\n",
       "      <td>7.14</td>\n",
       "      <td>8.14</td>\n",
       "      <td>7.7</td>\n",
       "      <td>-10.5</td>\n",
       "      <td>6.0</td>\n",
       "      <td>8.0</td>\n",
       "      <td>37.0</td>\n",
       "      <td>2660.0</td>\n",
       "      <td>2.0</td>\n",
       "      <td>1.0</td>\n",
       "      <td>...</td>\n",
       "      <td>368.077564</td>\n",
       "      <td>210.991854</td>\n",
       "      <td>1.549748</td>\n",
       "      <td>-0.000147</td>\n",
       "      <td>0.031682</td>\n",
       "      <td>0.179575</td>\n",
       "      <td>16</td>\n",
       "      <td>3.059011</td>\n",
       "      <td>0.437721</td>\n",
       "      <td>B</td>\n",
       "    </tr>\n",
       "    <tr>\n",
       "      <th>1</th>\n",
       "      <td>7.00</td>\n",
       "      <td>7.92</td>\n",
       "      <td>12.0</td>\n",
       "      <td>-12.0</td>\n",
       "      <td>8.0</td>\n",
       "      <td>8.0</td>\n",
       "      <td>41.0</td>\n",
       "      <td>2900.0</td>\n",
       "      <td>2.0</td>\n",
       "      <td>1.0</td>\n",
       "      <td>...</td>\n",
       "      <td>573.335415</td>\n",
       "      <td>388.247905</td>\n",
       "      <td>3.125196</td>\n",
       "      <td>-0.019740</td>\n",
       "      <td>0.053499</td>\n",
       "      <td>0.154470</td>\n",
       "      <td>2</td>\n",
       "      <td>0.020674</td>\n",
       "      <td>1.175809</td>\n",
       "      <td>A</td>\n",
       "    </tr>\n",
       "    <tr>\n",
       "      <th>2</th>\n",
       "      <td>7.20</td>\n",
       "      <td>3.03</td>\n",
       "      <td>8.3</td>\n",
       "      <td>-5.6</td>\n",
       "      <td>7.0</td>\n",
       "      <td>9.0</td>\n",
       "      <td>40.0</td>\n",
       "      <td>3770.0</td>\n",
       "      <td>1.0</td>\n",
       "      <td>1.0</td>\n",
       "      <td>...</td>\n",
       "      <td>285.519025</td>\n",
       "      <td>149.841842</td>\n",
       "      <td>2.459169</td>\n",
       "      <td>0.030445</td>\n",
       "      <td>0.052023</td>\n",
       "      <td>0.205526</td>\n",
       "      <td>8</td>\n",
       "      <td>1.917875</td>\n",
       "      <td>1.699915</td>\n",
       "      <td>B</td>\n",
       "    </tr>\n",
       "  </tbody>\n",
       "</table>\n",
       "<p>3 rows × 53 columns</p>\n",
       "</div>"
      ],
      "text/plain": [
       "     pH  BDecf  pCO2    BE  Apgar1  Apgar5  Gest.weeks  Weight(g)  Sex  \\\n",
       "0  7.14   8.14   7.7 -10.5     6.0     8.0        37.0     2660.0  2.0   \n",
       "1  7.00   7.92  12.0 -12.0     8.0     8.0        41.0     2900.0  2.0   \n",
       "2  7.20   3.03   8.3  -5.6     7.0     9.0        40.0     3770.0  1.0   \n",
       "\n",
       "   Gravidity  ...  FHR_II_ffill_total_power  FHR_II_ffill_vlf  \\\n",
       "0        1.0  ...                368.077564        210.991854   \n",
       "1        1.0  ...                573.335415        388.247905   \n",
       "2        1.0  ...                285.519025        149.841842   \n",
       "\n",
       "   FHR_II_ffill_haar_stdev  FHR_II_ffill_haar_mean  FHR_II_ffill_samp_entr  \\\n",
       "0                 1.549748               -0.000147                0.031682   \n",
       "1                 3.125196               -0.019740                0.053499   \n",
       "2                 2.459169                0.030445                0.052023   \n",
       "\n",
       "   FHR_II_ffill_bub_entr  diff_nni20  diff_lf_hf  diff_haar_std  Maternal_Age  \n",
       "0               0.179575          16    3.059011       0.437721             B  \n",
       "1               0.154470           2    0.020674       1.175809             A  \n",
       "2               0.205526           8    1.917875       1.699915             B  \n",
       "\n",
       "[3 rows x 53 columns]"
      ]
     },
     "execution_count": 10,
     "metadata": {},
     "output_type": "execute_result"
    }
   ],
   "source": [
    "to_drop=['Age','Maternal_Age_4'] \n",
    "ageDf= mainDf.drop(columns=to_drop).copy()\n",
    "#ageDf.info()\n",
    "ageDf.head(3)"
   ]
  },
  {
   "cell_type": "code",
   "execution_count": 11,
   "id": "9dcd3c25",
   "metadata": {},
   "outputs": [],
   "source": [
    "ageDf.to_csv('C:/Users/Nefeli/Desktop/biomed_project_data/ageDf_bin.csv',index=False)"
   ]
  },
  {
   "cell_type": "code",
   "execution_count": null,
   "id": "9c127899",
   "metadata": {},
   "outputs": [],
   "source": []
  }
 ],
 "metadata": {
  "kernelspec": {
   "display_name": "Python 3 (ipykernel)",
   "language": "python",
   "name": "python3"
  },
  "language_info": {
   "codemirror_mode": {
    "name": "ipython",
    "version": 3
   },
   "file_extension": ".py",
   "mimetype": "text/x-python",
   "name": "python",
   "nbconvert_exporter": "python",
   "pygments_lexer": "ipython3",
   "version": "3.11.5"
  }
 },
 "nbformat": 4,
 "nbformat_minor": 5
}

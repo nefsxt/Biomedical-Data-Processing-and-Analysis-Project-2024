{
 "cells": [
  {
   "cell_type": "markdown",
   "id": "f7d63451",
   "metadata": {},
   "source": [
    "## Data Loading "
   ]
  },
  {
   "cell_type": "markdown",
   "id": "d896aa37",
   "metadata": {},
   "source": [
    "Necessary Imports"
   ]
  },
  {
   "cell_type": "code",
   "execution_count": 1,
   "id": "2f0ee1b3",
   "metadata": {},
   "outputs": [],
   "source": [
    "import os\n",
    "import wfdb\n",
    "import pandas as pd\n",
    "import numpy as np\n",
    "import matplotlib as plt\n",
    "import ast\n",
    "import time\n",
    "from pathlib import Path\n",
    "\n",
    "\n",
    "from hrvanalysis import get_time_domain_features\n",
    "from hrvanalysis import get_frequency_domain_features\n",
    "import pywt\n",
    "import EntropyHub as EH\n",
    "import scipy"
   ]
  },
  {
   "cell_type": "markdown",
   "id": "b012ab5c",
   "metadata": {},
   "source": [
    "Read file names from the directory containg the data-set and retain the file name without the \".dat\" and \".hea\" ending"
   ]
  },
  {
   "cell_type": "code",
   "execution_count": 2,
   "id": "a68c9e9f",
   "metadata": {},
   "outputs": [],
   "source": [
    "dir_name = 'C:/Users/Nefeli/Desktop/biomed_project_data/'  \n",
    "directory = Path(dir_name) #path obj creation\n",
    "file_names = [file.name for file in directory.iterdir() if file.is_file()] #list all files\n",
    "#keep .dat files and strip ending to retain number form only\n",
    "file_id=[]\n",
    "for file in file_names:\n",
    "    if file.endswith(\".hea\"): \n",
    "        file_id.append(file.rstrip(\".hea\"))"
   ]
  },
  {
   "cell_type": "markdown",
   "id": "01da3f81",
   "metadata": {},
   "source": [
    "Test for record retrieval"
   ]
  },
  {
   "cell_type": "code",
   "execution_count": 3,
   "id": "76a606f4",
   "metadata": {},
   "outputs": [],
   "source": [
    "testOn = 0 \n",
    "#test record retrieval\n",
    "if testOn == 1 :\n",
    "    record = wfdb.rdrecord('C:/Users/Nefeli/Desktop/biomed_project_data/'+file_id[0]) \n",
    "    print(record.__dict__)"
   ]
  },
  {
   "cell_type": "markdown",
   "id": "b2635bcc",
   "metadata": {},
   "source": [
    "Create a dataframe to hold all data"
   ]
  },
  {
   "cell_type": "code",
   "execution_count": 4,
   "id": "a5a04ccc",
   "metadata": {},
   "outputs": [
    {
     "name": "stdout",
     "output_type": "stream",
     "text": [
      "<bound method DataFrame.info of Empty DataFrame\n",
      "Columns: [record_name, n_sig, fs, counter_freq, base_counter, sig_len, base_time, base_date, comments, sig_name, p_signal, d_signal, e_p_signal, e_d_signal, file_name, fmt, samps_per_frame, skew, byte_offset, adc_gain, baseline, units, adc_res, adc_zero, init_value, checksum, block_size]\n",
      "Index: []\n",
      "\n",
      "[0 rows x 27 columns]>\n"
     ]
    }
   ],
   "source": [
    "attributes=[]\n",
    "record = wfdb.rdrecord('C:/Users/Nefeli/Desktop/biomed_project_data/'+file_id[0]) \n",
    "for attribute, value in record.__dict__.items():\n",
    "    attributes.append(attribute)\n",
    "    \n",
    "allDataDf = pd.DataFrame(columns=attributes)\n",
    "\n",
    "print(allDataDf.info)"
   ]
  },
  {
   "cell_type": "markdown",
   "id": "6351540b",
   "metadata": {},
   "source": [
    "Iterate over file names and retain the corresponding value on the respective attribute column"
   ]
  },
  {
   "cell_type": "code",
   "execution_count": 5,
   "id": "ad2fb7cb",
   "metadata": {},
   "outputs": [
    {
     "name": "stdout",
     "output_type": "stream",
     "text": [
      "[552, 552, 552, 552, 552, 552, 552, 552, 552, 552, 552, 552, 552, 552, 552, 552, 552, 552, 552, 552, 552, 552, 552, 552, 552, 552, 552]\n"
     ]
    }
   ],
   "source": [
    "#first check if attributes are the same for all data entries\n",
    "scores=[0]*len(attributes)\n",
    "for i in range(len(file_id)):\n",
    "    record = wfdb.rdrecord('C:/Users/Nefeli/Desktop/biomed_project_data/'+file_id[i])\n",
    "    for j in range(len(attributes)):\n",
    "        for attribute, value in record.__dict__.items():\n",
    "            if attribute == attributes[j]:\n",
    "                scores[j] = scores[j]+1\n",
    "        #print(type(value))\n",
    "        #allDataDf.loc[i,attribute] = value\n",
    "        \n",
    "print(scores)"
   ]
  },
  {
   "cell_type": "code",
   "execution_count": 6,
   "id": "2d308b2a",
   "metadata": {},
   "outputs": [
    {
     "name": "stdout",
     "output_type": "stream",
     "text": [
      "Each attribute has only one consistent data type\n"
     ]
    }
   ],
   "source": [
    "#then check if values corresponding to each attribute are of the same type for all data entries\n",
    "types=[]\n",
    "for i in range(len(file_id)):\n",
    "    record = wfdb.rdrecord('C:/Users/Nefeli/Desktop/biomed_project_data/'+file_id[i])\n",
    "    for j in range(len(attributes)):\n",
    "        typeList=[]\n",
    "        for attribute, value in record.__dict__.items():\n",
    "            if attribute == attributes[j]:\n",
    "                typeList.append(type(value))\n",
    "        types.append(set(typeList))\n",
    "        #print(types[j])\n",
    "\n",
    "lenSet = set()\n",
    "for t in range(len(types)):\n",
    "    lenSet.add(len(types[t]))\n",
    "if len(lenSet)==1:\n",
    "    print(\"Each attribute has only one consistent data type\")\n",
    "else:\n",
    "    print(\"Data type inconsistency exists for at least one attribute\")"
   ]
  },
  {
   "cell_type": "code",
   "execution_count": 7,
   "id": "7636e34c",
   "metadata": {},
   "outputs": [],
   "source": [
    "#iterate over data entries and get the corresponding values for each attribute \n",
    "for i in range(len(file_id)):\n",
    "    record = wfdb.rdrecord('C:/Users/Nefeli/Desktop/biomed_project_data/'+file_id[i])\n",
    "    for attribute, value in record.__dict__.items():\n",
    "        #print(str(i) + ' attr: '+ attribute)\n",
    "        if type(attribute) == 'list':\n",
    "            #  print(type(value))\n",
    "            allDataDf.loc[i,attribute] = np.array(value)\n",
    "        else:\n",
    "            allDataDf.loc[i,attribute] = value\n",
    "        \n",
    "        \n",
    "    "
   ]
  },
  {
   "cell_type": "code",
   "execution_count": 8,
   "id": "57062fcb",
   "metadata": {
    "scrolled": true
   },
   "outputs": [
    {
     "data": {
      "text/html": [
       "<div>\n",
       "<style scoped>\n",
       "    .dataframe tbody tr th:only-of-type {\n",
       "        vertical-align: middle;\n",
       "    }\n",
       "\n",
       "    .dataframe tbody tr th {\n",
       "        vertical-align: top;\n",
       "    }\n",
       "\n",
       "    .dataframe thead th {\n",
       "        text-align: right;\n",
       "    }\n",
       "</style>\n",
       "<table border=\"1\" class=\"dataframe\">\n",
       "  <thead>\n",
       "    <tr style=\"text-align: right;\">\n",
       "      <th></th>\n",
       "      <th>record_name</th>\n",
       "      <th>n_sig</th>\n",
       "      <th>fs</th>\n",
       "      <th>counter_freq</th>\n",
       "      <th>base_counter</th>\n",
       "      <th>sig_len</th>\n",
       "      <th>base_time</th>\n",
       "      <th>base_date</th>\n",
       "      <th>comments</th>\n",
       "      <th>sig_name</th>\n",
       "      <th>...</th>\n",
       "      <th>skew</th>\n",
       "      <th>byte_offset</th>\n",
       "      <th>adc_gain</th>\n",
       "      <th>baseline</th>\n",
       "      <th>units</th>\n",
       "      <th>adc_res</th>\n",
       "      <th>adc_zero</th>\n",
       "      <th>init_value</th>\n",
       "      <th>checksum</th>\n",
       "      <th>block_size</th>\n",
       "    </tr>\n",
       "  </thead>\n",
       "  <tbody>\n",
       "    <tr>\n",
       "      <th>0</th>\n",
       "      <td>1001</td>\n",
       "      <td>2</td>\n",
       "      <td>4</td>\n",
       "      <td>None</td>\n",
       "      <td>None</td>\n",
       "      <td>19200</td>\n",
       "      <td>None</td>\n",
       "      <td>None</td>\n",
       "      <td>[----- Additional parameters for record 1001, ...</td>\n",
       "      <td>[FHR, UC]</td>\n",
       "      <td>...</td>\n",
       "      <td>[None, None]</td>\n",
       "      <td>[None, None]</td>\n",
       "      <td>[100.0, 100.0]</td>\n",
       "      <td>[0, 0]</td>\n",
       "      <td>[bpm, nd]</td>\n",
       "      <td>[12, 12]</td>\n",
       "      <td>[0, 0]</td>\n",
       "      <td>[15050, 700]</td>\n",
       "      <td>[20101, 378]</td>\n",
       "      <td>[0, 0]</td>\n",
       "    </tr>\n",
       "    <tr>\n",
       "      <th>1</th>\n",
       "      <td>1002</td>\n",
       "      <td>2</td>\n",
       "      <td>4</td>\n",
       "      <td>None</td>\n",
       "      <td>None</td>\n",
       "      <td>19200</td>\n",
       "      <td>None</td>\n",
       "      <td>None</td>\n",
       "      <td>[----- Additional parameters for record 1002, ...</td>\n",
       "      <td>[FHR, UC]</td>\n",
       "      <td>...</td>\n",
       "      <td>[None, None]</td>\n",
       "      <td>[None, None]</td>\n",
       "      <td>[100.0, 100.0]</td>\n",
       "      <td>[0, 0]</td>\n",
       "      <td>[bpm, nd]</td>\n",
       "      <td>[12, 12]</td>\n",
       "      <td>[0, 0]</td>\n",
       "      <td>[14625, 2600]</td>\n",
       "      <td>[6289, -6136]</td>\n",
       "      <td>[0, 0]</td>\n",
       "    </tr>\n",
       "    <tr>\n",
       "      <th>2</th>\n",
       "      <td>1003</td>\n",
       "      <td>2</td>\n",
       "      <td>4</td>\n",
       "      <td>None</td>\n",
       "      <td>None</td>\n",
       "      <td>18000</td>\n",
       "      <td>None</td>\n",
       "      <td>None</td>\n",
       "      <td>[----- Additional parameters for record 1003, ...</td>\n",
       "      <td>[FHR, UC]</td>\n",
       "      <td>...</td>\n",
       "      <td>[None, None]</td>\n",
       "      <td>[None, None]</td>\n",
       "      <td>[100.0, 100.0]</td>\n",
       "      <td>[0, 0]</td>\n",
       "      <td>[bpm, nd]</td>\n",
       "      <td>[12, 12]</td>\n",
       "      <td>[0, 0]</td>\n",
       "      <td>[13750, 0]</td>\n",
       "      <td>[-16923, 2776]</td>\n",
       "      <td>[0, 0]</td>\n",
       "    </tr>\n",
       "    <tr>\n",
       "      <th>3</th>\n",
       "      <td>1004</td>\n",
       "      <td>2</td>\n",
       "      <td>4</td>\n",
       "      <td>None</td>\n",
       "      <td>None</td>\n",
       "      <td>16800</td>\n",
       "      <td>None</td>\n",
       "      <td>None</td>\n",
       "      <td>[----- Additional parameters for record 1004, ...</td>\n",
       "      <td>[FHR, UC]</td>\n",
       "      <td>...</td>\n",
       "      <td>[None, None]</td>\n",
       "      <td>[None, None]</td>\n",
       "      <td>[100.0, 100.0]</td>\n",
       "      <td>[0, 0]</td>\n",
       "      <td>[bpm, nd]</td>\n",
       "      <td>[12, 12]</td>\n",
       "      <td>[0, 0]</td>\n",
       "      <td>[15375, 4600]</td>\n",
       "      <td>[12765, 9024]</td>\n",
       "      <td>[0, 0]</td>\n",
       "    </tr>\n",
       "    <tr>\n",
       "      <th>4</th>\n",
       "      <td>1005</td>\n",
       "      <td>2</td>\n",
       "      <td>4</td>\n",
       "      <td>None</td>\n",
       "      <td>None</td>\n",
       "      <td>18000</td>\n",
       "      <td>None</td>\n",
       "      <td>None</td>\n",
       "      <td>[----- Additional parameters for record 1005, ...</td>\n",
       "      <td>[FHR, UC]</td>\n",
       "      <td>...</td>\n",
       "      <td>[None, None]</td>\n",
       "      <td>[None, None]</td>\n",
       "      <td>[100.0, 100.0]</td>\n",
       "      <td>[0, 0]</td>\n",
       "      <td>[bpm, nd]</td>\n",
       "      <td>[12, 12]</td>\n",
       "      <td>[0, 0]</td>\n",
       "      <td>[0, 0]</td>\n",
       "      <td>[-7237, 13794]</td>\n",
       "      <td>[0, 0]</td>\n",
       "    </tr>\n",
       "    <tr>\n",
       "      <th>5</th>\n",
       "      <td>1006</td>\n",
       "      <td>2</td>\n",
       "      <td>4</td>\n",
       "      <td>None</td>\n",
       "      <td>None</td>\n",
       "      <td>16800</td>\n",
       "      <td>None</td>\n",
       "      <td>None</td>\n",
       "      <td>[----- Additional parameters for record 1006, ...</td>\n",
       "      <td>[FHR, UC]</td>\n",
       "      <td>...</td>\n",
       "      <td>[None, None]</td>\n",
       "      <td>[None, None]</td>\n",
       "      <td>[100.0, 100.0]</td>\n",
       "      <td>[0, 0]</td>\n",
       "      <td>[bpm, nd]</td>\n",
       "      <td>[12, 12]</td>\n",
       "      <td>[0, 0]</td>\n",
       "      <td>[14350, 0]</td>\n",
       "      <td>[16322, 20408]</td>\n",
       "      <td>[0, 0]</td>\n",
       "    </tr>\n",
       "    <tr>\n",
       "      <th>6</th>\n",
       "      <td>1007</td>\n",
       "      <td>2</td>\n",
       "      <td>4</td>\n",
       "      <td>None</td>\n",
       "      <td>None</td>\n",
       "      <td>15600</td>\n",
       "      <td>None</td>\n",
       "      <td>None</td>\n",
       "      <td>[----- Additional parameters for record 1007, ...</td>\n",
       "      <td>[FHR, UC]</td>\n",
       "      <td>...</td>\n",
       "      <td>[None, None]</td>\n",
       "      <td>[None, None]</td>\n",
       "      <td>[100.0, 100.0]</td>\n",
       "      <td>[0, 0]</td>\n",
       "      <td>[bpm, nd]</td>\n",
       "      <td>[12, 12]</td>\n",
       "      <td>[0, 0]</td>\n",
       "      <td>[14225, 900]</td>\n",
       "      <td>[16977, -21392]</td>\n",
       "      <td>[0, 0]</td>\n",
       "    </tr>\n",
       "    <tr>\n",
       "      <th>7</th>\n",
       "      <td>1008</td>\n",
       "      <td>2</td>\n",
       "      <td>4</td>\n",
       "      <td>None</td>\n",
       "      <td>None</td>\n",
       "      <td>16800</td>\n",
       "      <td>None</td>\n",
       "      <td>None</td>\n",
       "      <td>[----- Additional parameters for record 1008, ...</td>\n",
       "      <td>[FHR, UC]</td>\n",
       "      <td>...</td>\n",
       "      <td>[None, None]</td>\n",
       "      <td>[None, None]</td>\n",
       "      <td>[100.0, 100.0]</td>\n",
       "      <td>[0, 0]</td>\n",
       "      <td>[bpm, nd]</td>\n",
       "      <td>[12, 12]</td>\n",
       "      <td>[0, 0]</td>\n",
       "      <td>[0, 1800]</td>\n",
       "      <td>[24137, 28018]</td>\n",
       "      <td>[0, 0]</td>\n",
       "    </tr>\n",
       "    <tr>\n",
       "      <th>8</th>\n",
       "      <td>1009</td>\n",
       "      <td>2</td>\n",
       "      <td>4</td>\n",
       "      <td>None</td>\n",
       "      <td>None</td>\n",
       "      <td>20400</td>\n",
       "      <td>None</td>\n",
       "      <td>None</td>\n",
       "      <td>[----- Additional parameters for record 1009, ...</td>\n",
       "      <td>[FHR, UC]</td>\n",
       "      <td>...</td>\n",
       "      <td>[None, None]</td>\n",
       "      <td>[None, None]</td>\n",
       "      <td>[100.0, 100.0]</td>\n",
       "      <td>[0, 0]</td>\n",
       "      <td>[bpm, nd]</td>\n",
       "      <td>[12, 12]</td>\n",
       "      <td>[0, 0]</td>\n",
       "      <td>[0, 0]</td>\n",
       "      <td>[5661, -9420]</td>\n",
       "      <td>[0, 0]</td>\n",
       "    </tr>\n",
       "    <tr>\n",
       "      <th>9</th>\n",
       "      <td>1010</td>\n",
       "      <td>2</td>\n",
       "      <td>4</td>\n",
       "      <td>None</td>\n",
       "      <td>None</td>\n",
       "      <td>16800</td>\n",
       "      <td>None</td>\n",
       "      <td>None</td>\n",
       "      <td>[----- Additional parameters for record 1010, ...</td>\n",
       "      <td>[FHR, UC]</td>\n",
       "      <td>...</td>\n",
       "      <td>[None, None]</td>\n",
       "      <td>[None, None]</td>\n",
       "      <td>[100.0, 100.0]</td>\n",
       "      <td>[0, 0]</td>\n",
       "      <td>[bpm, nd]</td>\n",
       "      <td>[12, 12]</td>\n",
       "      <td>[0, 0]</td>\n",
       "      <td>[12600, 1700]</td>\n",
       "      <td>[12395, 16200]</td>\n",
       "      <td>[0, 0]</td>\n",
       "    </tr>\n",
       "  </tbody>\n",
       "</table>\n",
       "<p>10 rows × 27 columns</p>\n",
       "</div>"
      ],
      "text/plain": [
       "  record_name n_sig fs counter_freq base_counter sig_len base_time base_date  \\\n",
       "0        1001     2  4         None         None   19200      None      None   \n",
       "1        1002     2  4         None         None   19200      None      None   \n",
       "2        1003     2  4         None         None   18000      None      None   \n",
       "3        1004     2  4         None         None   16800      None      None   \n",
       "4        1005     2  4         None         None   18000      None      None   \n",
       "5        1006     2  4         None         None   16800      None      None   \n",
       "6        1007     2  4         None         None   15600      None      None   \n",
       "7        1008     2  4         None         None   16800      None      None   \n",
       "8        1009     2  4         None         None   20400      None      None   \n",
       "9        1010     2  4         None         None   16800      None      None   \n",
       "\n",
       "                                            comments   sig_name  ...  \\\n",
       "0  [----- Additional parameters for record 1001, ...  [FHR, UC]  ...   \n",
       "1  [----- Additional parameters for record 1002, ...  [FHR, UC]  ...   \n",
       "2  [----- Additional parameters for record 1003, ...  [FHR, UC]  ...   \n",
       "3  [----- Additional parameters for record 1004, ...  [FHR, UC]  ...   \n",
       "4  [----- Additional parameters for record 1005, ...  [FHR, UC]  ...   \n",
       "5  [----- Additional parameters for record 1006, ...  [FHR, UC]  ...   \n",
       "6  [----- Additional parameters for record 1007, ...  [FHR, UC]  ...   \n",
       "7  [----- Additional parameters for record 1008, ...  [FHR, UC]  ...   \n",
       "8  [----- Additional parameters for record 1009, ...  [FHR, UC]  ...   \n",
       "9  [----- Additional parameters for record 1010, ...  [FHR, UC]  ...   \n",
       "\n",
       "           skew   byte_offset        adc_gain baseline      units   adc_res  \\\n",
       "0  [None, None]  [None, None]  [100.0, 100.0]   [0, 0]  [bpm, nd]  [12, 12]   \n",
       "1  [None, None]  [None, None]  [100.0, 100.0]   [0, 0]  [bpm, nd]  [12, 12]   \n",
       "2  [None, None]  [None, None]  [100.0, 100.0]   [0, 0]  [bpm, nd]  [12, 12]   \n",
       "3  [None, None]  [None, None]  [100.0, 100.0]   [0, 0]  [bpm, nd]  [12, 12]   \n",
       "4  [None, None]  [None, None]  [100.0, 100.0]   [0, 0]  [bpm, nd]  [12, 12]   \n",
       "5  [None, None]  [None, None]  [100.0, 100.0]   [0, 0]  [bpm, nd]  [12, 12]   \n",
       "6  [None, None]  [None, None]  [100.0, 100.0]   [0, 0]  [bpm, nd]  [12, 12]   \n",
       "7  [None, None]  [None, None]  [100.0, 100.0]   [0, 0]  [bpm, nd]  [12, 12]   \n",
       "8  [None, None]  [None, None]  [100.0, 100.0]   [0, 0]  [bpm, nd]  [12, 12]   \n",
       "9  [None, None]  [None, None]  [100.0, 100.0]   [0, 0]  [bpm, nd]  [12, 12]   \n",
       "\n",
       "  adc_zero     init_value         checksum block_size  \n",
       "0   [0, 0]   [15050, 700]     [20101, 378]     [0, 0]  \n",
       "1   [0, 0]  [14625, 2600]    [6289, -6136]     [0, 0]  \n",
       "2   [0, 0]     [13750, 0]   [-16923, 2776]     [0, 0]  \n",
       "3   [0, 0]  [15375, 4600]    [12765, 9024]     [0, 0]  \n",
       "4   [0, 0]         [0, 0]   [-7237, 13794]     [0, 0]  \n",
       "5   [0, 0]     [14350, 0]   [16322, 20408]     [0, 0]  \n",
       "6   [0, 0]   [14225, 900]  [16977, -21392]     [0, 0]  \n",
       "7   [0, 0]      [0, 1800]   [24137, 28018]     [0, 0]  \n",
       "8   [0, 0]         [0, 0]    [5661, -9420]     [0, 0]  \n",
       "9   [0, 0]  [12600, 1700]   [12395, 16200]     [0, 0]  \n",
       "\n",
       "[10 rows x 27 columns]"
      ]
     },
     "execution_count": 8,
     "metadata": {},
     "output_type": "execute_result"
    }
   ],
   "source": [
    "allDataDf.head(10)"
   ]
  },
  {
   "cell_type": "markdown",
   "id": "8c27bd36",
   "metadata": {},
   "source": [
    "## Data Processing "
   ]
  },
  {
   "cell_type": "markdown",
   "id": "8b93b0f9",
   "metadata": {},
   "source": [
    "### Isolate the FHR signal "
   ]
  },
  {
   "cell_type": "markdown",
   "id": "a6f1eb50",
   "metadata": {},
   "source": [
    "Create a column dedicated to the FHR signal because it automatically is not loaded onto the df properly:"
   ]
  },
  {
   "cell_type": "code",
   "execution_count": 9,
   "id": "3ea606f9",
   "metadata": {},
   "outputs": [],
   "source": [
    "allDataDf['FHR'] = [None]*len(allDataDf)"
   ]
  },
  {
   "cell_type": "code",
   "execution_count": 10,
   "id": "16a69eab",
   "metadata": {},
   "outputs": [],
   "source": [
    "for i in range(0,len(allDataDf)):\n",
    "    record = wfdb.rdrecord('C:/Users/Nefeli/Desktop/biomed_project_data/'+file_id[i])\n",
    "    signalFHR = record.p_signal[:, 0]  # FHR Signal\n",
    "    allDataDf.at[i, 'FHR'] = signalFHR\n"
   ]
  },
  {
   "cell_type": "markdown",
   "id": "414366f7",
   "metadata": {},
   "source": [
    "Extract features included in the 'comments' attribute"
   ]
  },
  {
   "cell_type": "code",
   "execution_count": 11,
   "id": "8cbef94e",
   "metadata": {},
   "outputs": [],
   "source": [
    "def extractCommentsTuples(comments_i):\n",
    "    \n",
    "    list_x = comments_i\n",
    "    #list_x = ast.literal_eval(comments_i)\n",
    "    # Indices of elements that must be removed because they contain info that we don't need\n",
    "    pos_to_rmv = [0,1,8,15,19,29,37]\n",
    "    \n",
    "    #Remove unwanted elements\n",
    "    temp_list = [list_x[i] for i in range(len(list_x)) if i not in pos_to_rmv]\n",
    "    #print(temp_list)\n",
    "\n",
    "    result_list=[]\n",
    "    #The results are strings and must be split into string-float pairs\n",
    "    for element in temp_list:\n",
    "        \n",
    "        el_split = element.split(\" \")\n",
    "      \n",
    "        #print(el_split)\n",
    "        # Remove empty strings from the list\n",
    "        cleaned_el = list(filter(None, el_split))\n",
    "            \n",
    "        #print(cleaned_el)\n",
    "        #Join any split up strings - the last element is always intenede to be int or float -> float is used for all\n",
    "        result_el = ''.join(cleaned_el[:-1]), float(cleaned_el[-1])\n",
    "\n",
    "        #print(result)\n",
    "        result_list.append(result_el)\n",
    "    return result_list\n",
    "#extractCommentsTuples(dfAll.comments[0])"
   ]
  },
  {
   "cell_type": "code",
   "execution_count": 12,
   "id": "3c4cfd62",
   "metadata": {},
   "outputs": [],
   "source": [
    "allDataDf.comments = allDataDf.comments.apply(lambda x : extractCommentsTuples(x))"
   ]
  },
  {
   "cell_type": "code",
   "execution_count": 13,
   "id": "0485e31a",
   "metadata": {},
   "outputs": [],
   "source": [
    "columns_to_create = [i[0] for i in allDataDf.comments[0]] #take the names from one of the lists"
   ]
  },
  {
   "cell_type": "code",
   "execution_count": 14,
   "id": "a9d3da9c",
   "metadata": {},
   "outputs": [],
   "source": [
    "for i in range(0,len(columns_to_create)):\n",
    "    allDataDf[columns_to_create[i]] = [0.0]*len(allDataDf)"
   ]
  },
  {
   "cell_type": "code",
   "execution_count": 15,
   "id": "5c5fd44b",
   "metadata": {},
   "outputs": [],
   "source": [
    "for i in range(0,len(allDataDf)):\n",
    "    for j in range(0,len(columns_to_create)):\n",
    "        allDataDf.iloc[i,allDataDf.columns.get_loc(columns_to_create[j])] = allDataDf.comments[i][j][1] #row i , attribute j -> get value => place it in dfAll[attr]\n",
    "    time.sleep(0.2)\n",
    "    \n",
    "#takes a while (~10 mins max) because of the sleep command issued to not surpass preset bitrates for transfer to Jupyter servers"
   ]
  },
  {
   "cell_type": "markdown",
   "id": "7e1c51e0",
   "metadata": {},
   "source": [
    "### Remove Caesarian Birth Data Entries "
   ]
  },
  {
   "cell_type": "markdown",
   "id": "1491e564",
   "metadata": {},
   "source": [
    "It is known that natural birth data is more than caesarian birth data . The 'Deliv.type' attribute takes two values '1.0'and '2.0'. Therfore by counting how many times each appears, it is easy to figure out which value matches which case."
   ]
  },
  {
   "cell_type": "code",
   "execution_count": 16,
   "id": "19b2dcb7",
   "metadata": {},
   "outputs": [
    {
     "name": "stdout",
     "output_type": "stream",
     "text": [
      "1.0 count = 506\n",
      "2.0 count = 46\n"
     ]
    }
   ],
   "source": [
    "ones = 0\n",
    "twos = 0\n",
    "for i in allDataDf['Deliv.type']:\n",
    "    if i == 1.0:\n",
    "        ones+=1\n",
    "    elif i == 2.0:\n",
    "        twos+=1\n",
    "    else:\n",
    "        print(\"Unkown\")\n",
    "print(\"1.0 count = \"+str(ones))\n",
    "print(\"2.0 count = \"+str(twos))"
   ]
  },
  {
   "cell_type": "markdown",
   "id": "a2175be1",
   "metadata": {},
   "source": [
    "There are more instances of the value '1.0' in comparison to the value '2.0'. This means '1.0' corresponds to a natural birth data entry while '2.0' corresponds to a caesarian birth data entry. All caesarian data entries must be removed because only natural birth data are to be used in the analysis."
   ]
  },
  {
   "cell_type": "code",
   "execution_count": 17,
   "id": "a0b2224d",
   "metadata": {},
   "outputs": [],
   "source": [
    "allDataDf = allDataDf.loc[~allDataDf['Deliv.type'].isin([2.0])]\n",
    "allDataDf = allDataDf.reset_index(drop=True)"
   ]
  },
  {
   "cell_type": "code",
   "execution_count": 18,
   "id": "47a8f19c",
   "metadata": {},
   "outputs": [
    {
     "name": "stdout",
     "output_type": "stream",
     "text": [
      "1.0 count = 506\n",
      "2.0 count = 0\n"
     ]
    }
   ],
   "source": [
    "ones = 0\n",
    "twos = 0\n",
    "for i in allDataDf['Deliv.type']:\n",
    "    if i == 1.0:\n",
    "        ones+=1\n",
    "    elif i == 2.0:\n",
    "        twos+=1\n",
    "    else:\n",
    "        print(\"Unkown\")\n",
    "print(\"1.0 count = \"+str(ones))\n",
    "print(\"2.0 count = \"+str(twos))"
   ]
  },
  {
   "cell_type": "markdown",
   "id": "5091d52e",
   "metadata": {},
   "source": [
    "The count of cases with a value of '2.0' are zero, therefore all those cases have been succesfully removed."
   ]
  },
  {
   "cell_type": "markdown",
   "id": "2bba8048",
   "metadata": {},
   "source": [
    "### Splitting the signal in stage I and Stage II "
   ]
  },
  {
   "cell_type": "code",
   "execution_count": 19,
   "id": "d2de7f97",
   "metadata": {},
   "outputs": [],
   "source": [
    "allDataDf['FHR_st_I']= [None]*len(allDataDf)\n",
    "allDataDf['FHR_st_II']= [None]*len(allDataDf) "
   ]
  },
  {
   "cell_type": "code",
   "execution_count": 20,
   "id": "c82b0a30",
   "metadata": {},
   "outputs": [],
   "source": [
    "allDataDf['split_point'] = allDataDf['Pos.II.st.'].astype(int) #temp column for split points\n",
    "allDataDf['FHR_st_I'] = allDataDf.apply(lambda fhr_sig: fhr_sig.FHR[:fhr_sig['split_point']], axis=1)\n",
    "allDataDf['FHR_st_II'] = allDataDf.apply(lambda fhr_sig: fhr_sig.FHR[fhr_sig['split_point']:], axis=1)\n",
    "\n",
    "#drop temp column\n",
    "allDataDf = allDataDf.drop(columns=['split_point'])"
   ]
  },
  {
   "cell_type": "markdown",
   "id": "9d74813c",
   "metadata": {},
   "source": [
    "### Examine zeros in each part individually "
   ]
  },
  {
   "cell_type": "code",
   "execution_count": 21,
   "id": "8f8f85dc",
   "metadata": {},
   "outputs": [
    {
     "name": "stdout",
     "output_type": "stream",
     "text": [
      "mean number of zeros = 2172.4703557312255\n",
      "median number of zeros = 1927.5\n",
      "standard deviation of number of zeros = 1702.518355583135\n",
      "min number of zeros = 0\n",
      "max number of zeros = 7812\n"
     ]
    }
   ],
   "source": [
    "allDataDf['FHR_I_zeros'] = [0.0]*len(allDataDf)\n",
    "allDataDf['FHR_I_zeros'] = allDataDf.FHR_st_I.apply(lambda x: np.sum(x == 0))\n",
    "print(\"mean number of zeros = \"+str(np.mean(allDataDf.FHR_I_zeros)))\n",
    "print(\"median number of zeros = \"+str(np.median(allDataDf.FHR_I_zeros)))\n",
    "print(\"standard deviation of number of zeros = \"+str(np.std(allDataDf.FHR_I_zeros)))\n",
    "print(\"min number of zeros = \"+str(np.min(allDataDf.FHR_I_zeros)))\n",
    "print(\"max number of zeros = \"+str(np.max(allDataDf.FHR_I_zeros)))"
   ]
  },
  {
   "cell_type": "code",
   "execution_count": 22,
   "id": "44dd96f1",
   "metadata": {},
   "outputs": [
    {
     "name": "stdout",
     "output_type": "stream",
     "text": [
      "mean zero to signal I length ratios: [0.09998962 0.10259208 0.10346216 0.11073768 0.11130038 0.11491683\n",
      " 0.11898148 0.12402677 0.12497569 0.12803906 0.13182191 0.13237415\n",
      " 0.13245602 0.13385417 0.13386346]\n",
      "counts: [  1   1   1   1   1   1   1   1   1   1   1   1   2 491   1]\n"
     ]
    }
   ],
   "source": [
    "uniques_I, counts_I = np.unique(np.median(allDataDf.FHR_I_zeros)/allDataDf.FHR_st_I.apply(lambda x: len(x)),return_counts=True)\n",
    "print(\"mean zero to signal I length ratios: \"+ str(uniques_I))\n",
    "print(\"counts: \"+str(counts_I))"
   ]
  },
  {
   "cell_type": "code",
   "execution_count": 23,
   "id": "198eedbd",
   "metadata": {},
   "outputs": [
    {
     "name": "stdout",
     "output_type": "stream",
     "text": [
      "mean number of zeros = 960.9762845849802\n",
      "median number of zeros = 699.5\n",
      "standard deviation of number of zeros = 986.9752227622885\n",
      "min number of zeros = 0\n",
      "max number of zeros = 6650\n"
     ]
    }
   ],
   "source": [
    "allDataDf['FHR_II_zeros'] = [0.0]*len(allDataDf)\n",
    "allDataDf['FHR_II_zeros'] = allDataDf.FHR_st_II.apply(lambda x: np.sum(x == 0))\n",
    "print(\"mean number of zeros = \"+str(np.mean(allDataDf.FHR_II_zeros)))\n",
    "print(\"median number of zeros = \"+str(np.median(allDataDf.FHR_II_zeros)))\n",
    "print(\"standard deviation of number of zeros = \"+str(np.std(allDataDf.FHR_II_zeros)))\n",
    "print(\"min number of zeros = \"+str(np.min(allDataDf.FHR_II_zeros)))\n",
    "print(\"max number of zeros = \"+str(np.max(allDataDf.FHR_II_zeros)))"
   ]
  },
  {
   "cell_type": "code",
   "execution_count": 24,
   "id": "5fc03945",
   "metadata": {},
   "outputs": [
    {
     "name": "stdout",
     "output_type": "stream",
     "text": [
      "mean zero to signal II lenght ratios: [1.33099208e-01 1.33136088e-01 1.33172988e-01 1.33468928e-01\n",
      " 1.59657133e-01 1.59736749e-01 1.60162714e-01 1.99372673e-01\n",
      " 1.99538265e-01 2.00203393e-01 2.65463062e-01 2.65756716e-01\n",
      " 2.66937857e-01 3.97097638e-01 4.00406785e-01 7.87685479e-01\n",
      " 8.00813570e-01 2.00203393e+00 9.60976285e+02]\n",
      "counts: [  1   1   1  36   1   1  28   4   1  70   2   1  81   2 159   2 110   1\n",
      "   4]\n"
     ]
    }
   ],
   "source": [
    "uniques_II, counts_II = np.unique(np.mean(allDataDf.FHR_II_zeros)/allDataDf.FHR_st_II.apply(lambda x: len(x)),return_counts=True)\n",
    "print(\"mean zero to signal II lenght ratios: \"+ str(uniques_II))\n",
    "print(\"counts: \"+str(counts_II))"
   ]
  },
  {
   "cell_type": "markdown",
   "id": "a7affe12",
   "metadata": {},
   "source": [
    "<br>Part I: from the statistics available and the mean zero to total length ratios, it is evident that up to 15% of the signal is made up of zeros </br>\\\n",
    "<br>Part II: from the statistics available and the mean zero to total length ratios, it is evident that there are signals with significant amounts of zeros up to 80%. More specifically the ones of most concern are the count and \"about\" percentage of zeros pairs: (110,80%) (2,78%),(159,40%) and(2,39%). A weird result is the 4 counts of  9.60976285e+02</br>\n",
    "<br>Some signals will be \"thrown away\" as unreliable on the basis of the quality of part II which holds important information but is understandably more noisy, given it corresponds to the more intense part of labor, toward the end. </br>\n",
    "<br>Those signals are the ones marked as concering above. This is easily implementable by dropping the rows that correspond to indexes where the ratio i s >= 3.97097638e-01. </br>\n",
    "<br>Note: the mean is used for the calculations because outliers must be included and we don't mind their influence.The median would give a more \"orgiving\" ratio in this scenario. </br>"
   ]
  },
  {
   "cell_type": "code",
   "execution_count": 25,
   "id": "6295f5de",
   "metadata": {},
   "outputs": [],
   "source": [
    "means_len_zero_ratio_II = np.mean(allDataDf.FHR_II_zeros)/allDataDf.FHR_st_II.apply(lambda x: len(x))"
   ]
  },
  {
   "cell_type": "code",
   "execution_count": 26,
   "id": "726f5a2c",
   "metadata": {},
   "outputs": [],
   "source": [
    "big_ratio_II_detection = means_len_zero_ratio_II.apply(lambda x: x>= 3.97097638e-01 )"
   ]
  },
  {
   "cell_type": "code",
   "execution_count": 27,
   "id": "203fb27c",
   "metadata": {},
   "outputs": [
    {
     "name": "stdout",
     "output_type": "stream",
     "text": [
      "278\n"
     ]
    }
   ],
   "source": [
    "big_ratio_II_idx = []\n",
    "for i in range(0,len(allDataDf)):\n",
    "    if big_ratio_II_detection.iloc[i] == True:\n",
    "        big_ratio_II_idx.append(i)\n",
    "print(len(big_ratio_II_idx))"
   ]
  },
  {
   "cell_type": "code",
   "execution_count": 28,
   "id": "fa970924",
   "metadata": {},
   "outputs": [],
   "source": [
    "allDataDf.drop(big_ratio_II_idx, inplace=True)\n",
    "allDataDf = allDataDf.reset_index(drop=True)"
   ]
  },
  {
   "cell_type": "markdown",
   "id": "b88a78b9",
   "metadata": {},
   "source": [
    "### Transforming the Zeros - Interpolation "
   ]
  },
  {
   "cell_type": "markdown",
   "id": "85083606",
   "metadata": {},
   "source": [
    "#### Example of how part I is interpolated/filled"
   ]
  },
  {
   "cell_type": "code",
   "execution_count": 29,
   "id": "5ea4fe78",
   "metadata": {},
   "outputs": [],
   "source": [
    "tes_sig_I = allDataDf.FHR_st_I.iloc[100]"
   ]
  },
  {
   "cell_type": "code",
   "execution_count": 30,
   "id": "ba8f7a37",
   "metadata": {},
   "outputs": [],
   "source": [
    "tes_sig_I_interp = np.array(pd.Series(tes_sig_I ).replace(0.0, np.nan).ffill().bfill())"
   ]
  },
  {
   "cell_type": "code",
   "execution_count": 31,
   "id": "d14e9d59",
   "metadata": {},
   "outputs": [
    {
     "data": {
      "image/png": "[encoded data removed]",
      "text/plain": [
       "<Figure size 1200x500 with 2 Axes>"
      ]
     },
     "metadata": {},
     "output_type": "display_data"
    }
   ],
   "source": [
    "import matplotlib.pyplot as plt\n",
    "plt.figure(figsize=(12, 5))\n",
    "\n",
    "plt.subplot(1, 2, 1)\n",
    "plt.plot(tes_sig_I, label='Test Signal Part I', marker='o')\n",
    "plt.title('Test Signal Part I')\n",
    "\n",
    "plt.subplot(1, 2, 2)\n",
    "plt.plot(tes_sig_I_interp, label='ffill().bfill() Test Signal Part I', marker='o')\n",
    "plt.title('ffill().bfill() Test Signal Part I')\n",
    "plt.tight_layout()\n",
    "plt.show()"
   ]
  },
  {
   "cell_type": "markdown",
   "id": "7dd4bbe6",
   "metadata": {},
   "source": [
    "Zeros are transformed into nan in order to be considered \"missing\" values. Using forward fill \"ffill()\", the missing values are replaced with the most recent non-missing values before them. Using backward fill \"bill()\", the missing values are replaced with the most recent non-missing values after them. One pass of each is required to ensure all values that must be filled are filled and no nan values remain in the series."
   ]
  },
  {
   "cell_type": "markdown",
   "id": "24839154",
   "metadata": {},
   "source": [
    "#### Example of how part II is interpolated/filled "
   ]
  },
  {
   "cell_type": "code",
   "execution_count": 32,
   "id": "22c3556d",
   "metadata": {},
   "outputs": [],
   "source": [
    "test_sig_II = allDataDf.FHR_st_II.iloc[100]"
   ]
  },
  {
   "cell_type": "code",
   "execution_count": 33,
   "id": "df459163",
   "metadata": {},
   "outputs": [],
   "source": [
    "test_sig_II_interp = np.array(pd.Series(test_sig_II).replace(0.0, np.nan).ffill().bfill())"
   ]
  },
  {
   "cell_type": "code",
   "execution_count": 34,
   "id": "a5d6da74",
   "metadata": {},
   "outputs": [
    {
     "data": {
      "image/png": "[encoded data removed]",
      "text/plain": [
       "<Figure size 1200x500 with 2 Axes>"
      ]
     },
     "metadata": {},
     "output_type": "display_data"
    }
   ],
   "source": [
    "plt.figure(figsize=(12, 5))\n",
    "\n",
    "plt.subplot(1, 2, 1)\n",
    "plt.plot(test_sig_II, label='Test Signal Part II', marker='o')\n",
    "plt.title('Test Signal Part II')\n",
    "\n",
    "plt.subplot(1, 2, 2)\n",
    "plt.plot(test_sig_II_interp, label='ffill().bfill() Test Signal Part II', marker='o')\n",
    "plt.title('ffill().bfill() Test Signal Part II')\n",
    "plt.tight_layout()\n",
    "plt.show()"
   ]
  },
  {
   "cell_type": "markdown",
   "id": "b1447026",
   "metadata": {},
   "source": [
    "Applying the same method as before, we get similarly good results."
   ]
  },
  {
   "cell_type": "code",
   "execution_count": 35,
   "id": "f7fe4836",
   "metadata": {},
   "outputs": [],
   "source": [
    "allDataDf['FHR_st_I_ffill']= [None]*len(allDataDf)\n",
    "allDataDf['FHR_st_II_ffill']= [None]*len(allDataDf)\n",
    "\n",
    "#before being filled forward, zeros must be turned into nan\n",
    "allDataDf['FHR_st_I_ffill']= allDataDf.FHR_st_I.apply(lambda x: np.array(pd.Series(x).replace(0.0, np.nan).ffill().bfill()))\n",
    "I_nan_detection = allDataDf['FHR_st_I_ffill'].apply(lambda x: np.isnan(x).any())\n",
    "allDataDf['FHR_st_II_ffill']= allDataDf.FHR_st_II.apply(lambda x: np.array(pd.Series(x).replace(0.0, np.nan).ffill().bfill()))\n",
    "II_nan_detection = allDataDf['FHR_st_II_ffill'].apply(lambda x: np.isnan(x).any())"
   ]
  },
  {
   "cell_type": "markdown",
   "id": "7ea224f5",
   "metadata": {},
   "source": [
    "A check for any possible NaN values is implemented and any entries with NaN values are deleted."
   ]
  },
  {
   "cell_type": "code",
   "execution_count": 36,
   "id": "09dc5280",
   "metadata": {},
   "outputs": [
    {
     "name": "stdout",
     "output_type": "stream",
     "text": [
      "NaN count in part I signals:  []\n",
      "NaN count in part II signals:  [128]\n"
     ]
    }
   ],
   "source": [
    "I_nan_idx = []\n",
    "for i in range(0,len(allDataDf)):\n",
    "    if I_nan_detection.iloc[i] == True:\n",
    "        I_nan_idx.append(i)\n",
    "    \n",
    "II_nan_idx = []\n",
    "for i in range(0,len(allDataDf)):\n",
    "    if II_nan_detection.iloc[i] == True:\n",
    "        II_nan_idx.append(i)\n",
    "        \n",
    "print(\"NaN count in part I signals: \",I_nan_idx)\n",
    "print(\"NaN count in part II signals: \",II_nan_idx)"
   ]
  },
  {
   "cell_type": "code",
   "execution_count": 37,
   "id": "70c8394d",
   "metadata": {},
   "outputs": [
    {
     "data": {
      "text/plain": [
       "RangeIndex(start=0, stop=227, step=1)"
      ]
     },
     "execution_count": 37,
     "metadata": {},
     "output_type": "execute_result"
    }
   ],
   "source": [
    "allDataDf.drop(II_nan_idx, inplace=True)\n",
    "allDataDf = allDataDf.reset_index(drop=True)\n",
    "allDataDf.index"
   ]
  },
  {
   "cell_type": "markdown",
   "id": "cde65af7",
   "metadata": {},
   "source": [
    "## FHR Feature Extraction "
   ]
  },
  {
   "cell_type": "markdown",
   "id": "402b4eb1",
   "metadata": {},
   "source": [
    "<br>Specific feautures must be extracted from the FHR signal. The FHR signal contains heart rate variability (HRV) information. There are several types of methods that help extract features from the signal and they include time domain methods, frequency domain methods, geometric methods, time-frequency methods and non-linear methods. The features that will be extracted correspond to the frequency domain, time domain, time-frequency domain and some entropy based non-linear methods.</br>\n",
    "<br><b>Time Domain Features:</b> mean and median NN intervals (mean_nni, median_nni), SDNN, RMSSD, NNI20, PNNI20</br>\n",
    "<br><b>Frequency Domain Features:</b> LF/HF Ratio, Total Power, VLF </br>\n",
    "<br><b>Time-Frequency Features:</b> Haar Wavelet St. Deviation, Mean and Shannon Entropy</br>\n",
    "<br><b>Entropy Features:</b> Sample Entropy, Bubble Entropy and Shannon Entropy </br>"
   ]
  },
  {
   "cell_type": "markdown",
   "id": "7c4d6e2f",
   "metadata": {},
   "source": [
    "#### Finding the Haar Wavelet optimal scale parameter for the Haar features "
   ]
  },
  {
   "cell_type": "markdown",
   "id": "c1c76be2",
   "metadata": {},
   "source": [
    "The Haar wavelet is applied with multiple scale settings. The goal is to choose the scale that provides a min median case for all signals in each stage and then extract more information from the detail coefficient vector of that scale. "
   ]
  },
  {
   "cell_type": "code",
   "execution_count": 38,
   "id": "73e0be07",
   "metadata": {},
   "outputs": [],
   "source": [
    "def haar_det_coeff_std_calc(signal,scale):\n",
    "    det_coeff_stdevs = []\n",
    "    for i in range(1,scale+1):\n",
    "        coeffs = pywt.wavedec(signal, 'haar', level=i)\n",
    "        det_coeff_stdevs.append(np.std(coeffs[1]))\n",
    "    #print(det_coeff_stdevs)\n",
    "    min_pos = np.argmin(det_coeff_stdevs)\n",
    "    return [det_coeff_stdevs[min_pos],min_pos+1] #returns[min stdev ,min position + 1 = min scale]"
   ]
  },
  {
   "cell_type": "code",
   "execution_count": 39,
   "id": "69344887",
   "metadata": {},
   "outputs": [
    {
     "name": "stdout",
     "output_type": "stream",
     "text": [
      "Optimal Haar Scale (I):  1.0\n"
     ]
    }
   ],
   "source": [
    "allDataDf['haar_I_min']= [None]*len(allDataDf)\n",
    "allDataDf['haar_I_min'] = allDataDf['FHR_st_I_ffill'].apply(lambda x: haar_det_coeff_std_calc(x,10))\n",
    "optimal_scale_I = np.median(allDataDf['haar_I_min'].apply(lambda x: x[1]))\n",
    "print(\"Optimal Haar Scale (I): \",optimal_scale_I)"
   ]
  },
  {
   "cell_type": "code",
   "execution_count": 40,
   "id": "148733f2",
   "metadata": {},
   "outputs": [
    {
     "name": "stdout",
     "output_type": "stream",
     "text": [
      "Optimal Haar Scale (II):  1.0\n"
     ]
    }
   ],
   "source": [
    "allDataDf['haar_II_min']= [None]*len(allDataDf)\n",
    "allDataDf['haar_II_min'] = allDataDf['FHR_st_II_ffill'].apply(lambda x: haar_det_coeff_std_calc(x,10))\n",
    "optimal_scale_II = np.median(allDataDf['haar_II_min'].apply(lambda x: x[1]))\n",
    "print(\"Optimal Haar Scale (II): \",optimal_scale_II)"
   ]
  },
  {
   "cell_type": "markdown",
   "id": "478da3f7",
   "metadata": {},
   "source": [
    "#### Set features "
   ]
  },
  {
   "cell_type": "code",
   "execution_count": 41,
   "id": "48539ea3",
   "metadata": {},
   "outputs": [],
   "source": [
    "#initialize columns \n",
    "\n",
    "#init time feature columns for stage I\n",
    "allDataDf['FHR_I_ffill_mean_nni']= [None]*len(allDataDf)\n",
    "allDataDf['FHR_I_ffill_median_nni']= [None]*len(allDataDf)\n",
    "allDataDf['FHR_I_ffill_sdnn']= [None]*len(allDataDf)\n",
    "allDataDf['FHR_I_ffill_rmssd']= [None]*len(allDataDf) \n",
    "allDataDf['FHR_I_ffill_nni20']= [None]*len(allDataDf) \n",
    "allDataDf['FHR_I_ffill_pnni20']= [None]*len(allDataDf) \n",
    "\n",
    "#init freq feature columns for stage I\n",
    "allDataDf['FHR_I_ffill_lf_hf_ratio']= [None]*len(allDataDf) \n",
    "allDataDf['FHR_I_ffill_total_power']= [None]*len(allDataDf) \n",
    "allDataDf['FHR_I_ffill_vlf']= [None]*len(allDataDf)\n",
    "\n",
    "#init Haar Wavelet feature columns for stage I\n",
    "allDataDf['FHR_I_ffill_haar_stdev']= [None]*len(allDataDf) \n",
    "allDataDf['FHR_I_ffill_haar_mean']= [None]*len(allDataDf) \n",
    "allDataDf['FHR_I_ffill_haar_shan_entr']= [None]*len(allDataDf) \n",
    "\n",
    "#init Entropy  feature columns for stage I\n",
    "allDataDf['FHR_I_ffill_samp_entr']= [None]*len(allDataDf) \n",
    "allDataDf['FHR_I_ffill_bub_entr']= [None]*len(allDataDf) \n",
    "allDataDf['FHR_I_ffill_shan_entr']= [None]*len(allDataDf) \n",
    "\n",
    "\n",
    "#init time feature columns for stage II\n",
    "allDataDf['FHR_II_ffill_mean_nni']= [None]*len(allDataDf)\n",
    "allDataDf['FHR_II_ffill_median_nni']= [None]*len(allDataDf)\n",
    "allDataDf['FHR_II_ffill_sdnn']= [None]*len(allDataDf)\n",
    "allDataDf['FHR_II_ffill_rmssd']= [None]*len(allDataDf) \n",
    "allDataDf['FHR_II_ffill_nni20']= [None]*len(allDataDf) \n",
    "allDataDf['FHR_II_ffill_pnni20']= [None]*len(allDataDf) \n",
    "\n",
    "#init freq feature columns for stage I\n",
    "allDataDf['FHR_II_ffill_lf_hf_ratio']= [None]*len(allDataDf) \n",
    "allDataDf['FHR_II_ffill_total_power']= [None]*len(allDataDf) \n",
    "allDataDf['FHR_II_ffill_vlf']= [None]*len(allDataDf)\n",
    "#init Haar Wavelet feature columns for stage II\n",
    "allDataDf['FHR_II_ffill_haar_stdev']= [None]*len(allDataDf) \n",
    "allDataDf['FHR_II_ffill_haar_mean']= [None]*len(allDataDf) \n",
    "allDataDf['FHR_II_ffill_haar_shan_entr']= [None]*len(allDataDf) \n",
    "\n",
    "#init Entropy  feature columns for stage II\n",
    "allDataDf['FHR_II_ffill_samp_entr']= [None]*len(allDataDf) \n",
    "allDataDf['FHR_II_ffill_bub_entr']= [None]*len(allDataDf) \n",
    "allDataDf['FHR_II_ffill_shan_entr']= [None]*len(allDataDf) \n"
   ]
  },
  {
   "cell_type": "code",
   "execution_count": 42,
   "id": "65132aa4",
   "metadata": {},
   "outputs": [],
   "source": [
    "#set time and frequency features for stages I and II\n",
    "for i in range(0,len(allDataDf)):\n",
    "    #print(\"--- --- ---\")\n",
    "    #print(i)\n",
    "    stage_I = allDataDf.FHR_st_I_ffill.iloc[i]\n",
    "    stage_II = allDataDf.FHR_st_II_ffill.iloc[i]\n",
    "    time_feats_I = get_time_domain_features(stage_I)\n",
    "    time_feats_II = get_time_domain_features(stage_II)\n",
    "    freq_feats_I = get_frequency_domain_features(stage_I)\n",
    "    freq_feats_II = get_frequency_domain_features(stage_II)\n",
    "    \n",
    "    #STAGE I\n",
    "    \n",
    "    #time feature columns for stage I\n",
    "    allDataDf.iloc[i, allDataDf.columns.get_loc('FHR_I_ffill_mean_nni')] = time_feats_I['mean_nni']\n",
    "    allDataDf.iloc[i, allDataDf.columns.get_loc('FHR_I_ffill_median_nni')] = time_feats_I['median_nni']\n",
    "    allDataDf.iloc[i, allDataDf.columns.get_loc('FHR_I_ffill_sdnn')] = time_feats_I['sdnn']\n",
    "    allDataDf.iloc[i, allDataDf.columns.get_loc('FHR_I_ffill_rmssd')] = time_feats_I['rmssd']\n",
    "    allDataDf.iloc[i, allDataDf.columns.get_loc('FHR_I_ffill_nni20')] = time_feats_I['nni_20']\n",
    "    allDataDf.iloc[i, allDataDf.columns.get_loc('FHR_I_ffill_pnni20')] = time_feats_I['pnni_20']\n",
    "\n",
    "    #freq feature columns for stage I\n",
    "    allDataDf.iloc[i, allDataDf.columns.get_loc('FHR_I_ffill_lf_hf_ratio')] = freq_feats_I['lf_hf_ratio']\n",
    "    allDataDf.iloc[i, allDataDf.columns.get_loc('FHR_I_ffill_total_power')] = freq_feats_I['total_power']\n",
    "    allDataDf.iloc[i, allDataDf.columns.get_loc('FHR_I_ffill_vlf')] = freq_feats_I['vlf']\n",
    "\n",
    "\n",
    "    \n",
    "    #STAGE II\n",
    "    \n",
    "    #time feature columns for stage II\n",
    "    allDataDf.iloc[i, allDataDf.columns.get_loc('FHR_II_ffill_mean_nni')] = time_feats_II['mean_nni']\n",
    "    allDataDf.iloc[i, allDataDf.columns.get_loc('FHR_II_ffill_median_nni')] = time_feats_II['median_nni']\n",
    "    allDataDf.iloc[i, allDataDf.columns.get_loc('FHR_II_ffill_sdnn')] = time_feats_II['sdnn']\n",
    "    allDataDf.iloc[i, allDataDf.columns.get_loc('FHR_II_ffill_rmssd')] = time_feats_II['rmssd']\n",
    "    allDataDf.iloc[i, allDataDf.columns.get_loc('FHR_II_ffill_nni20')] = time_feats_II['nni_20']\n",
    "    allDataDf.iloc[i, allDataDf.columns.get_loc('FHR_II_ffill_pnni20')] = time_feats_II['pnni_20']\n",
    "\n",
    "    #freq feature columns for stage II\n",
    "    allDataDf.iloc[i, allDataDf.columns.get_loc('FHR_II_ffill_lf_hf_ratio')] = freq_feats_II['lf_hf_ratio']\n",
    "    allDataDf.iloc[i, allDataDf.columns.get_loc('FHR_II_ffill_total_power')] = freq_feats_II['total_power']\n",
    "    allDataDf.iloc[i, allDataDf.columns.get_loc('FHR_II_ffill_vlf')] = freq_feats_II['vlf']\n",
    "    "
   ]
  },
  {
   "cell_type": "code",
   "execution_count": 43,
   "id": "b2707ab8",
   "metadata": {},
   "outputs": [],
   "source": [
    "#haar and entropy features for stage I and II\n",
    "for i in range(0,len(allDataDf)):\n",
    "    stage_I = allDataDf.FHR_st_I_ffill.iloc[i]\n",
    "\n",
    "    #Haar Wavelet feature columns for stage I\n",
    "    coeffs_I = pywt.wavedec(stage_I, 'haar', level=int(optimal_scale_I))\n",
    "    allDataDf.iloc[i, allDataDf.columns.get_loc('FHR_I_ffill_haar_stdev')] = np.std(coeffs_I[1])\n",
    "    allDataDf.iloc[i, allDataDf.columns.get_loc('FHR_I_ffill_haar_mean')] = np.mean(coeffs_I[1])\n",
    "    allDataDf.iloc[i, allDataDf.columns.get_loc('FHR_I_ffill_haar_shan_entr')] = scipy.stats.entropy(coeffs_I[1])\n",
    "\n",
    "    #Entropy  feature columns for stage I\n",
    "    Bubb_I, H_I = EH.BubbEn(stage_I)\n",
    "    Samp_I, A_I, B_I = EH.SampEn(stage_I,m=3)\n",
    "    allDataDf.iloc[i, allDataDf.columns.get_loc('FHR_I_ffill_samp_entr')] = Samp_I[3]\n",
    "    allDataDf.iloc[i, allDataDf.columns.get_loc('FHR_I_ffill_bub_entr')] = Bubb_I[0]\n",
    "    allDataDf.iloc[i, allDataDf.columns.get_loc('FHR_I_ffill_shan_entr')] = scipy.stats.entropy(stage_I)\n",
    "    \n",
    "    \n",
    "    stage_II = allDataDf.FHR_st_II_ffill.iloc[i]\n",
    "\n",
    "    #Haar Wavelet feature columns for stage II\n",
    "    coeffs_II = pywt.wavedec(stage_II, 'haar', level=int(optimal_scale_II))\n",
    "    allDataDf.iloc[i, allDataDf.columns.get_loc('FHR_II_ffill_haar_stdev')] = np.std(coeffs_II[1])\n",
    "    allDataDf.iloc[i, allDataDf.columns.get_loc('FHR_II_ffill_haar_mean')] = np.mean(coeffs_II[1])\n",
    "    allDataDf.iloc[i, allDataDf.columns.get_loc('FHR_II_ffill_haar_shan_entr')] = scipy.stats.entropy(coeffs_II[1])\n",
    "\n",
    "    #Entropy  feature columns for stage II\n",
    "    Bubb_II, H_II = EH.BubbEn(stage_II)\n",
    "    Samp_II, A_II, B_II = EH.SampEn(stage_II,m=3)\n",
    "    allDataDf.iloc[i, allDataDf.columns.get_loc('FHR_II_ffill_samp_entr')] = Samp_II[3]\n",
    "    allDataDf.iloc[i, allDataDf.columns.get_loc('FHR_II_ffill_bub_entr')] = Bubb_II[0]\n",
    "    allDataDf.iloc[i, allDataDf.columns.get_loc('FHR_II_ffill_shan_entr')] = scipy.stats.entropy(stage_II)"
   ]
  },
  {
   "cell_type": "code",
   "execution_count": 44,
   "id": "1f125e75",
   "metadata": {},
   "outputs": [],
   "source": [
    "#allDataDf.info()"
   ]
  },
  {
   "cell_type": "code",
   "execution_count": 45,
   "id": "586e36fb",
   "metadata": {},
   "outputs": [
    {
     "data": {
      "text/plain": [
       "array([-inf], dtype=object)"
      ]
     },
     "execution_count": 45,
     "metadata": {},
     "output_type": "execute_result"
    }
   ],
   "source": [
    "np.unique(allDataDf['FHR_I_ffill_haar_shan_entr'])"
   ]
  },
  {
   "cell_type": "code",
   "execution_count": 46,
   "id": "857c403b",
   "metadata": {},
   "outputs": [
    {
     "data": {
      "text/plain": [
       "array([-inf], dtype=object)"
      ]
     },
     "execution_count": 46,
     "metadata": {},
     "output_type": "execute_result"
    }
   ],
   "source": [
    "np.unique(allDataDf['FHR_I_ffill_haar_shan_entr'])"
   ]
  },
  {
   "cell_type": "code",
   "execution_count": 47,
   "id": "010a050d",
   "metadata": {},
   "outputs": [
    {
     "data": {
      "text/plain": [
       "array([-inf], dtype=object)"
      ]
     },
     "execution_count": 47,
     "metadata": {},
     "output_type": "execute_result"
    }
   ],
   "source": [
    "np.unique(allDataDf['FHR_II_ffill_haar_shan_entr'])"
   ]
  },
  {
   "cell_type": "markdown",
   "id": "978a5fec",
   "metadata": {},
   "source": [
    "The shannon entropy columns must be excluded since they do not provide any information other than -inf being set to all entries."
   ]
  },
  {
   "cell_type": "markdown",
   "id": "f467f5d1",
   "metadata": {},
   "source": [
    "### Stage I - Stage II Difference Features "
   ]
  },
  {
   "cell_type": "markdown",
   "id": "744e6566",
   "metadata": {},
   "source": [
    "Experimentally, a few features that measure differences between the two stages will be computed to see if they contribute to better classification or not. Such features are going to be the absolute difference of <b>nni20</b>, <b>LF/HF</b> and of the <b>Haar Wavelet St.Dev</b>. "
   ]
  },
  {
   "cell_type": "code",
   "execution_count": 48,
   "id": "71e220cb",
   "metadata": {},
   "outputs": [],
   "source": [
    "#init Haar Wavelet feature columns for stage I\n",
    "allDataDf['diff_nni20']= allDataDf['FHR_I_ffill_nni20'] - allDataDf['FHR_II_ffill_nni20']\n",
    "allDataDf['diff_nni20'] = allDataDf['diff_nni20'].apply(lambda x : np.abs(x))\n",
    "allDataDf['diff_lf_hf']= allDataDf['FHR_I_ffill_lf_hf_ratio'] - allDataDf['FHR_II_ffill_lf_hf_ratio'] \n",
    "allDataDf['diff_lf_hf'] = allDataDf['diff_lf_hf'].apply(lambda x : np.abs(x))\n",
    "allDataDf['diff_haar_std']= allDataDf['FHR_I_ffill_haar_stdev']-allDataDf['FHR_II_ffill_haar_stdev']\n",
    "allDataDf['diff_haar_std'] = allDataDf['diff_haar_std'].apply(lambda x : np.abs(x))\n",
    "#'diff_nni20',\n",
    "#'diff_lf_hf',\n",
    "#'diff_haar_std',\n"
   ]
  },
  {
   "cell_type": "markdown",
   "id": "972f0c2a",
   "metadata": {},
   "source": [
    "### Create main dataframe that holds the features and data to be used as input in classifiers "
   ]
  },
  {
   "cell_type": "markdown",
   "id": "31a112b0",
   "metadata": {},
   "source": [
    "Before moving on to classification implementations, it is important to isolate the necessary columns and create a new dataframe which will be used for classification purposes."
   ]
  },
  {
   "cell_type": "code",
   "execution_count": 49,
   "id": "2befa701",
   "metadata": {},
   "outputs": [],
   "source": [
    "to_keep = ['pH',\n",
    "'BDecf',\n",
    "'pCO2',\n",
    "'BE',\n",
    "'Apgar1',\n",
    "'Apgar5',\n",
    "'Gest.weeks',\n",
    "'Weight(g)',\n",
    "'Sex',\n",
    "'Age',\n",
    "'Gravidity',\n",
    "'Parity',\n",
    "'Diabetes',\n",
    "'Hypertension',\n",
    "'Preeclampsia',\n",
    "'Liq.praecox',\n",
    "'Pyrexia',\n",
    "'Meconium',\n",
    "'Presentation',\n",
    "'Induced',\n",
    "'NoProgress',\n",
    "'CK/KP',\n",
    "'dbID',\n",
    "'Rec.type',\n",
    "'FHR_I_ffill_mean_nni',\n",
    "'FHR_I_ffill_median_nni',\n",
    "'FHR_I_ffill_sdnn',\n",
    "'FHR_I_ffill_rmssd',\n",
    "'FHR_I_ffill_nni20',\n",
    "'FHR_I_ffill_pnni20',\n",
    "'FHR_I_ffill_lf_hf_ratio',\n",
    "'FHR_I_ffill_total_power',\n",
    "'FHR_I_ffill_vlf',\n",
    "'FHR_I_ffill_haar_stdev',\n",
    "'FHR_I_ffill_haar_mean',\n",
    "#'FHR_I_ffill_haar_shan_entr',\n",
    "'FHR_I_ffill_samp_entr',\n",
    "'FHR_I_ffill_bub_entr',\n",
    "#'FHR_I_ffill_shan_entr',\n",
    "'FHR_II_ffill_mean_nni',\n",
    "'FHR_II_ffill_median_nni',\n",
    "'FHR_II_ffill_sdnn',\n",
    "'FHR_II_ffill_rmssd',\n",
    "'FHR_II_ffill_nni20',\n",
    "'FHR_II_ffill_pnni20',\n",
    "'FHR_II_ffill_lf_hf_ratio',\n",
    "'FHR_II_ffill_total_power',\n",
    "'FHR_II_ffill_vlf',\n",
    "'FHR_II_ffill_haar_stdev',\n",
    "'FHR_II_ffill_haar_mean',\n",
    "#'FHR_II_ffill_haar_shan_entr',\n",
    "'FHR_II_ffill_samp_entr',\n",
    "'FHR_II_ffill_bub_entr',\n",
    "#'FHR_II_ffill_shan_entr',\n",
    "'diff_nni20',\n",
    "'diff_lf_hf',\n",
    "'diff_haar_std']"
   ]
  },
  {
   "cell_type": "code",
   "execution_count": 50,
   "id": "a6b7df93",
   "metadata": {},
   "outputs": [
    {
     "name": "stdout",
     "output_type": "stream",
     "text": [
      "<class 'pandas.core.frame.DataFrame'>\n",
      "RangeIndex: 227 entries, 0 to 226\n",
      "Data columns (total 53 columns):\n",
      " #   Column                    Non-Null Count  Dtype  \n",
      "---  ------                    --------------  -----  \n",
      " 0   pH                        227 non-null    float64\n",
      " 1   BDecf                     222 non-null    float64\n",
      " 2   pCO2                      222 non-null    float64\n",
      " 3   BE                        222 non-null    float64\n",
      " 4   Apgar1                    227 non-null    float64\n",
      " 5   Apgar5                    227 non-null    float64\n",
      " 6   Gest.weeks                227 non-null    float64\n",
      " 7   Weight(g)                 227 non-null    float64\n",
      " 8   Sex                       227 non-null    float64\n",
      " 9   Age                       227 non-null    float64\n",
      " 10  Gravidity                 226 non-null    float64\n",
      " 11  Parity                    227 non-null    float64\n",
      " 12  Diabetes                  227 non-null    float64\n",
      " 13  Hypertension              227 non-null    float64\n",
      " 14  Preeclampsia              227 non-null    float64\n",
      " 15  Liq.praecox               227 non-null    float64\n",
      " 16  Pyrexia                   227 non-null    float64\n",
      " 17  Meconium                  227 non-null    float64\n",
      " 18  Presentation              227 non-null    float64\n",
      " 19  Induced                   227 non-null    float64\n",
      " 20  NoProgress                227 non-null    float64\n",
      " 21  CK/KP                     227 non-null    float64\n",
      " 22  dbID                      227 non-null    float64\n",
      " 23  Rec.type                  227 non-null    float64\n",
      " 24  FHR_I_ffill_mean_nni      227 non-null    object \n",
      " 25  FHR_I_ffill_median_nni    227 non-null    object \n",
      " 26  FHR_I_ffill_sdnn          227 non-null    object \n",
      " 27  FHR_I_ffill_rmssd         227 non-null    object \n",
      " 28  FHR_I_ffill_nni20         227 non-null    object \n",
      " 29  FHR_I_ffill_pnni20        227 non-null    object \n",
      " 30  FHR_I_ffill_lf_hf_ratio   227 non-null    object \n",
      " 31  FHR_I_ffill_total_power   227 non-null    object \n",
      " 32  FHR_I_ffill_vlf           227 non-null    object \n",
      " 33  FHR_I_ffill_haar_stdev    227 non-null    object \n",
      " 34  FHR_I_ffill_haar_mean     227 non-null    object \n",
      " 35  FHR_I_ffill_samp_entr     227 non-null    object \n",
      " 36  FHR_I_ffill_bub_entr      227 non-null    object \n",
      " 37  FHR_II_ffill_mean_nni     227 non-null    object \n",
      " 38  FHR_II_ffill_median_nni   227 non-null    object \n",
      " 39  FHR_II_ffill_sdnn         227 non-null    object \n",
      " 40  FHR_II_ffill_rmssd        227 non-null    object \n",
      " 41  FHR_II_ffill_nni20        227 non-null    object \n",
      " 42  FHR_II_ffill_pnni20       227 non-null    object \n",
      " 43  FHR_II_ffill_lf_hf_ratio  227 non-null    object \n",
      " 44  FHR_II_ffill_total_power  227 non-null    object \n",
      " 45  FHR_II_ffill_vlf          227 non-null    object \n",
      " 46  FHR_II_ffill_haar_stdev   227 non-null    object \n",
      " 47  FHR_II_ffill_haar_mean    227 non-null    object \n",
      " 48  FHR_II_ffill_samp_entr    227 non-null    object \n",
      " 49  FHR_II_ffill_bub_entr     227 non-null    object \n",
      " 50  diff_nni20                227 non-null    int32  \n",
      " 51  diff_lf_hf                227 non-null    float64\n",
      " 52  diff_haar_std             227 non-null    float64\n",
      "dtypes: float64(26), int32(1), object(26)\n",
      "memory usage: 93.2+ KB\n"
     ]
    }
   ],
   "source": [
    "mainDf = allDataDf[to_keep].copy()\n",
    "mainDf.info()"
   ]
  },
  {
   "cell_type": "markdown",
   "id": "de03e60c",
   "metadata": {},
   "source": [
    "The 'BDecf', 'pCO2', 'BE' columns contain a few null values. The corresponding entries can be removed.      "
   ]
  },
  {
   "cell_type": "code",
   "execution_count": 51,
   "id": "db1032f3",
   "metadata": {},
   "outputs": [
    {
     "name": "stdout",
     "output_type": "stream",
     "text": [
      "[19, 32, 98, 160, 178]\n"
     ]
    }
   ],
   "source": [
    "BDecf_nan_detection = mainDf['BDecf'].apply(lambda x: np.isnan(x).any())\n",
    "BDecf_nan_idx = []\n",
    "for i in range(0,len(mainDf)):\n",
    "    if BDecf_nan_detection.iloc[i] == True:\n",
    "        BDecf_nan_idx.append(i)\n",
    "print(BDecf_nan_idx)"
   ]
  },
  {
   "cell_type": "code",
   "execution_count": 52,
   "id": "755dfc3f",
   "metadata": {},
   "outputs": [
    {
     "name": "stdout",
     "output_type": "stream",
     "text": [
      "[19, 32, 98, 160, 178]\n"
     ]
    }
   ],
   "source": [
    "pCO2_nan_detection = mainDf['pCO2'].apply(lambda x: np.isnan(x).any())\n",
    "pCO2_nan_idx = []\n",
    "for i in range(0,len(mainDf)):\n",
    "    if pCO2_nan_detection.iloc[i] == True:\n",
    "        pCO2_nan_idx.append(i)\n",
    "print(pCO2_nan_idx)"
   ]
  },
  {
   "cell_type": "code",
   "execution_count": 53,
   "id": "f96c43cb",
   "metadata": {},
   "outputs": [
    {
     "name": "stdout",
     "output_type": "stream",
     "text": [
      "[19, 32, 98, 160, 178]\n"
     ]
    }
   ],
   "source": [
    "BE_nan_detection = mainDf['BE'].apply(lambda x: np.isnan(x).any())\n",
    "BE_nan_idx = []\n",
    "for i in range(0,len(mainDf)):\n",
    "    if BE_nan_detection.iloc[i] == True:\n",
    "        BE_nan_idx.append(i)\n",
    "print(BE_nan_idx)"
   ]
  },
  {
   "cell_type": "code",
   "execution_count": 54,
   "id": "fe182682",
   "metadata": {},
   "outputs": [
    {
     "name": "stdout",
     "output_type": "stream",
     "text": [
      "<class 'pandas.core.frame.DataFrame'>\n",
      "RangeIndex: 222 entries, 0 to 221\n",
      "Data columns (total 53 columns):\n",
      " #   Column                    Non-Null Count  Dtype  \n",
      "---  ------                    --------------  -----  \n",
      " 0   pH                        222 non-null    float64\n",
      " 1   BDecf                     222 non-null    float64\n",
      " 2   pCO2                      222 non-null    float64\n",
      " 3   BE                        222 non-null    float64\n",
      " 4   Apgar1                    222 non-null    float64\n",
      " 5   Apgar5                    222 non-null    float64\n",
      " 6   Gest.weeks                222 non-null    float64\n",
      " 7   Weight(g)                 222 non-null    float64\n",
      " 8   Sex                       222 non-null    float64\n",
      " 9   Age                       222 non-null    float64\n",
      " 10  Gravidity                 221 non-null    float64\n",
      " 11  Parity                    222 non-null    float64\n",
      " 12  Diabetes                  222 non-null    float64\n",
      " 13  Hypertension              222 non-null    float64\n",
      " 14  Preeclampsia              222 non-null    float64\n",
      " 15  Liq.praecox               222 non-null    float64\n",
      " 16  Pyrexia                   222 non-null    float64\n",
      " 17  Meconium                  222 non-null    float64\n",
      " 18  Presentation              222 non-null    float64\n",
      " 19  Induced                   222 non-null    float64\n",
      " 20  NoProgress                222 non-null    float64\n",
      " 21  CK/KP                     222 non-null    float64\n",
      " 22  dbID                      222 non-null    float64\n",
      " 23  Rec.type                  222 non-null    float64\n",
      " 24  FHR_I_ffill_mean_nni      222 non-null    object \n",
      " 25  FHR_I_ffill_median_nni    222 non-null    object \n",
      " 26  FHR_I_ffill_sdnn          222 non-null    object \n",
      " 27  FHR_I_ffill_rmssd         222 non-null    object \n",
      " 28  FHR_I_ffill_nni20         222 non-null    object \n",
      " 29  FHR_I_ffill_pnni20        222 non-null    object \n",
      " 30  FHR_I_ffill_lf_hf_ratio   222 non-null    object \n",
      " 31  FHR_I_ffill_total_power   222 non-null    object \n",
      " 32  FHR_I_ffill_vlf           222 non-null    object \n",
      " 33  FHR_I_ffill_haar_stdev    222 non-null    object \n",
      " 34  FHR_I_ffill_haar_mean     222 non-null    object \n",
      " 35  FHR_I_ffill_samp_entr     222 non-null    object \n",
      " 36  FHR_I_ffill_bub_entr      222 non-null    object \n",
      " 37  FHR_II_ffill_mean_nni     222 non-null    object \n",
      " 38  FHR_II_ffill_median_nni   222 non-null    object \n",
      " 39  FHR_II_ffill_sdnn         222 non-null    object \n",
      " 40  FHR_II_ffill_rmssd        222 non-null    object \n",
      " 41  FHR_II_ffill_nni20        222 non-null    object \n",
      " 42  FHR_II_ffill_pnni20       222 non-null    object \n",
      " 43  FHR_II_ffill_lf_hf_ratio  222 non-null    object \n",
      " 44  FHR_II_ffill_total_power  222 non-null    object \n",
      " 45  FHR_II_ffill_vlf          222 non-null    object \n",
      " 46  FHR_II_ffill_haar_stdev   222 non-null    object \n",
      " 47  FHR_II_ffill_haar_mean    222 non-null    object \n",
      " 48  FHR_II_ffill_samp_entr    222 non-null    object \n",
      " 49  FHR_II_ffill_bub_entr     222 non-null    object \n",
      " 50  diff_nni20                222 non-null    int32  \n",
      " 51  diff_lf_hf                222 non-null    float64\n",
      " 52  diff_haar_std             222 non-null    float64\n",
      "dtypes: float64(26), int32(1), object(26)\n",
      "memory usage: 91.2+ KB\n"
     ]
    }
   ],
   "source": [
    "mainDf.drop(BDecf_nan_idx, inplace=True)\n",
    "mainDf = mainDf.reset_index(drop=True)\n",
    "mainDf.info()"
   ]
  },
  {
   "cell_type": "code",
   "execution_count": 55,
   "id": "b434f12a",
   "metadata": {},
   "outputs": [],
   "source": [
    "mainDf.to_csv('C:/Users/Nefeli/Desktop/biomed_project_data/mainDf_int.csv',index=False)"
   ]
  }
 ],
 "metadata": {
  "kernelspec": {
   "display_name": "Python 3 (ipykernel)",
   "language": "python",
   "name": "python3"
  },
  "language_info": {
   "codemirror_mode": {
    "name": "ipython",
    "version": 3
   },
   "file_extension": ".py",
   "mimetype": "text/x-python",
   "name": "python",
   "nbconvert_exporter": "python",
   "pygments_lexer": "ipython3",
   "version": "3.11.5"
  }
 },
 "nbformat": 4,
 "nbformat_minor": 5
}
